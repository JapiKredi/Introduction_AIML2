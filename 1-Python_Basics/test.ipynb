{
 "cells": [
  {
   "cell_type": "code",
   "execution_count": null,
   "metadata": {},
   "outputs": [],
   "source": []
  },
  {
   "cell_type": "markdown",
   "metadata": {},
   "source": [
    "### Python Example"
   ]
  },
  {
   "cell_type": "markdown",
   "metadata": {},
   "source": [
    "1+1"
   ]
  },
  {
   "cell_type": "markdown",
   "metadata": {},
   "source": [
    "print(1+1)"
   ]
  },
  {
   "cell_type": "code",
   "execution_count": 1,
   "metadata": {},
   "outputs": [
    {
     "data": {
      "text/plain": [
       "2"
      ]
     },
     "execution_count": 1,
     "metadata": {},
     "output_type": "execute_result"
    }
   ],
   "source": [
    "1+1"
   ]
  },
  {
   "cell_type": "code",
   "execution_count": 2,
   "metadata": {},
   "outputs": [
    {
     "name": "stdout",
     "output_type": "stream",
     "text": [
      "Hello world\n"
     ]
    }
   ],
   "source": [
    "print(\"Hello world\")"
   ]
  },
  {
   "cell_type": "code",
   "execution_count": 3,
   "metadata": {},
   "outputs": [
    {
     "name": "stdout",
     "output_type": "stream",
     "text": [
      "Jasper Bongers\n"
     ]
    }
   ],
   "source": [
    "name = \"Jasper\"\n",
    "surname = \"Bongers\"\n",
    "print(name + \" \" + surname)"
   ]
  },
  {
   "cell_type": "code",
   "execution_count": 4,
   "metadata": {},
   "outputs": [
    {
     "name": "stdout",
     "output_type": "stream",
     "text": [
      "You are older than 30\n"
     ]
    }
   ],
   "source": [
    "age=32\n",
    "if age > 30:\n",
    "    print(\"You are older than 30\")\n"
   ]
  },
  {
   "cell_type": "code",
   "execution_count": 6,
   "metadata": {},
   "outputs": [
    {
     "name": "stdout",
     "output_type": "stream",
     "text": [
      "55\n"
     ]
    }
   ],
   "source": [
    "# Use a backslash to continue a statement on the next line \n",
    "total = 1 + 2 + 3 + 4 + 5 + 6 + 7 \\\n",
    "    + 8 + 9 + 10\n",
    "print(total)"
   ]
  },
  {
   "cell_type": "code",
   "execution_count": 7,
   "metadata": {},
   "outputs": [
    {
     "name": "stdout",
     "output_type": "stream",
     "text": [
      "15\n"
     ]
    }
   ],
   "source": [
    "# Multiple statements on one line\n",
    "x = 5\n",
    "y = 10\n",
    "z = x + y\n",
    "print(z)"
   ]
  },
  {
   "cell_type": "code",
   "execution_count": 8,
   "metadata": {},
   "outputs": [
    {
     "name": "stdout",
     "output_type": "stream",
     "text": [
      "32\n",
      "Bongers\n",
      "My name is Bongers and I am 32 years old.\n"
     ]
    }
   ],
   "source": [
    "# Understand the semantics in Python\n",
    "age = 32 ## age is an integer\n",
    "name = 'Bongers' ## name is a string\n",
    "print(age)  # Output: 32\n",
    "print(name)  # Output: Bongers\n",
    "print('My name is', name, 'and I am', age, 'years old.')\n"
   ]
  },
  {
   "cell_type": "code",
   "execution_count": 9,
   "metadata": {},
   "outputs": [
    {
     "data": {
      "text/plain": [
       "str"
      ]
     },
     "execution_count": 9,
     "metadata": {},
     "output_type": "execute_result"
    }
   ],
   "source": [
    "type(name)"
   ]
  },
  {
   "cell_type": "code",
   "execution_count": 10,
   "metadata": {},
   "outputs": [
    {
     "data": {
      "text/plain": [
       "str"
      ]
     },
     "execution_count": 10,
     "metadata": {},
     "output_type": "execute_result"
    }
   ],
   "source": [
    "var = 10\n",
    "type(var)\n",
    "var = 'Jasper'\n",
    "type(var)"
   ]
  },
  {
   "cell_type": "code",
   "execution_count": 1,
   "metadata": {},
   "outputs": [
    {
     "name": "stdout",
     "output_type": "stream",
     "text": [
      "age:  32\n",
      "height:  6.1\n",
      "name:  Jasper\n",
      "is an adult?:  True\n",
      "is married?:  True\n"
     ]
    }
   ],
   "source": [
    "# Declaring and assigning Variables\n",
    "\n",
    "age = 32\n",
    "height = 6.1\n",
    "name = 'Jasper'\n",
    "is_adult = True\n",
    "is_married = True\n",
    "\n",
    "# printing the variables\n",
    "print(\"age: \", age)\n",
    "print(\"height: \", height)\n",
    "print(\"name: \", name)\n",
    "print(\"is an adult?: \", is_adult)\n",
    "print(\"is married?: \", is_married)\n"
   ]
  },
  {
   "cell_type": "code",
   "execution_count": 2,
   "metadata": {},
   "outputs": [],
   "source": [
    "# Naming conventions\n",
    "# Variable names should be descriptive\n",
    "# Variable names should be in lowercase\n",
    "# Variable names should be short\n",
    "# Variable names should be meaningful\n",
    "# Variable names should not start with a number; they can start with a letter or a underscore\n",
    "# Variable names should not contain special characters\n",
    "# Variable names should not contain spaces\n",
    "# Variable names should not be a keyword\n",
    "# Variable names should not be a built-in function name\n",
    "# Variable names should not be a class name\n",
    "# Variable names should not be a function name\n",
    "# Variable names should not be a module name\n",
    "# Variable names should not be a package name\n",
    "# Variable names should not be a constant\n"
   ]
  },
  {
   "cell_type": "code",
   "execution_count": 6,
   "metadata": {},
   "outputs": [
    {
     "name": "stdout",
     "output_type": "stream",
     "text": [
      "Jasper\n",
      "Bongers\n",
      "False\n",
      "Jasper\n",
      "Bongers\n"
     ]
    }
   ],
   "source": [
    "# Variable names are case-sensitive\n",
    "name = \"Jasper\"\n",
    "Name = \"Bongers\"\n",
    "print(name)\n",
    "print(Name)\n",
    "print(name == Name)\n",
    "# Output: Jasper\n",
    "# Output: Bongers\n",
    "# Variables can be reassigned\n",
    "name = \"Jasper\"\n",
    "print(name)\n",
    "name = \"Bongers\"\n",
    "print(name)\n",
    "\n"
   ]
  },
  {
   "cell_type": "code",
   "execution_count": 7,
   "metadata": {},
   "outputs": [
    {
     "name": "stdout",
     "output_type": "stream",
     "text": [
      "<class 'int'>\n",
      "<class 'float'>\n",
      "<class 'str'>\n",
      "<class 'bool'>\n",
      "<class 'bool'>\n"
     ]
    }
   ],
   "source": [
    "# Important to understand variable types\n",
    "age = 32\n",
    "height = 6.1\n",
    "name = 'Jasper'\n",
    "is_adult = True\n",
    "is_married = True\n",
    "print(type(age))\n",
    "print(type(height))\n",
    "print(type(name))\n",
    "print(type(is_adult))\n",
    "print(type(is_married))"
   ]
  },
  {
   "cell_type": "code",
   "execution_count": null,
   "metadata": {},
   "outputs": [
    {
     "name": "stdout",
     "output_type": "stream",
     "text": [
      "<class 'int'>\n",
      "<class 'str'>\n"
     ]
    }
   ],
   "source": [
    "# Type checking and type conversion\n",
    "\n",
    "#Type checking\n",
    "age = 25\n",
    "print(type(age))\n",
    "\n",
    "# Type conversion\n",
    "age_str = str(age)\n",
    "print(type(age_str))"
   ]
  },
  {
   "cell_type": "code",
   "execution_count": 10,
   "metadata": {},
   "outputs": [
    {
     "name": "stdout",
     "output_type": "stream",
     "text": [
      "<class 'str'>\n",
      "<class 'int'>\n"
     ]
    }
   ],
   "source": [
    "age = \"25\"\n",
    "print(type(age))\n",
    "str_age = int(age)\n",
    "print(type(str_age))"
   ]
  },
  {
   "cell_type": "code",
   "execution_count": 11,
   "metadata": {},
   "outputs": [
    {
     "name": "stdout",
     "output_type": "stream",
     "text": [
      "<class 'str'>\n"
     ]
    },
    {
     "ename": "ValueError",
     "evalue": "invalid literal for int() with base 10: 'Jasper'",
     "output_type": "error",
     "traceback": [
      "\u001b[0;31m---------------------------------------------------------------------------\u001b[0m",
      "\u001b[0;31mValueError\u001b[0m                                Traceback (most recent call last)",
      "Cell \u001b[0;32mIn[11], line 3\u001b[0m\n\u001b[1;32m      1\u001b[0m name \u001b[38;5;241m=\u001b[39m \u001b[38;5;124m\"\u001b[39m\u001b[38;5;124mJasper\u001b[39m\u001b[38;5;124m\"\u001b[39m\n\u001b[1;32m      2\u001b[0m \u001b[38;5;28mprint\u001b[39m(\u001b[38;5;28mtype\u001b[39m(name))\n\u001b[0;32m----> 3\u001b[0m int_name \u001b[38;5;241m=\u001b[39m \u001b[38;5;28;43mint\u001b[39;49m\u001b[43m(\u001b[49m\u001b[43mname\u001b[49m\u001b[43m)\u001b[49m\n\u001b[1;32m      4\u001b[0m \u001b[38;5;28mprint\u001b[39m(\u001b[38;5;28mtype\u001b[39m(int_name))\n",
      "\u001b[0;31mValueError\u001b[0m: invalid literal for int() with base 10: 'Jasper'"
     ]
    }
   ],
   "source": [
    "name = \"Jasper\"\n",
    "print(type(name))\n",
    "int_name = int(name)\n",
    "print(type(int_name))"
   ]
  },
  {
   "cell_type": "code",
   "execution_count": 13,
   "metadata": {},
   "outputs": [
    {
     "name": "stdout",
     "output_type": "stream",
     "text": [
      "7\n"
     ]
    }
   ],
   "source": [
    "height = 7.0\n",
    "type(height)\n",
    "print(int(height))\n"
   ]
  },
  {
   "cell_type": "code",
   "execution_count": 15,
   "metadata": {},
   "outputs": [
    {
     "name": "stdout",
     "output_type": "stream",
     "text": [
      "10 <class 'int'>\n",
      "Hello <class 'str'>\n",
      "3.14 <class 'float'>\n"
     ]
    }
   ],
   "source": [
    "# Dynamic Typing\n",
    "# Python allows the type of the variable to change during the execution of the program\n",
    "var = 10\n",
    "print(var,type(var))\n",
    "var = \"Hello\"\n",
    "print(var,type(var))\n",
    "var = 3.14\n",
    "print(var,type(var))\n"
   ]
  },
  {
   "cell_type": "code",
   "execution_count": 16,
   "metadata": {},
   "outputs": [
    {
     "name": "stdout",
     "output_type": "stream",
     "text": [
      "Hello Jasper\n",
      "<class 'str'>\n"
     ]
    }
   ],
   "source": [
    "## input\n",
    "name = input(\"What is your name? \")\n",
    "print(\"Hello\", name)\n",
    "print(type(name))\n",
    "# output\n",
    "# What is your name? Jasper\n",
    "# Hello Jasper\n"
   ]
  },
  {
   "cell_type": "code",
   "execution_count": 19,
   "metadata": {},
   "outputs": [
    {
     "name": "stdout",
     "output_type": "stream",
     "text": [
      "Hello 5\n",
      "<class 'str'>\n"
     ]
    }
   ],
   "source": [
    "# Input\n",
    "\n",
    "age = input(\"What is your age?\")\n",
    "print(\"Hello\", age)\n",
    "print(type(age))\n",
    "\n"
   ]
  },
  {
   "cell_type": "code",
   "execution_count": 20,
   "metadata": {},
   "outputs": [
    {
     "name": "stdout",
     "output_type": "stream",
     "text": [
      "<class 'int'>\n",
      "35\n"
     ]
    }
   ],
   "source": [
    "## Integer Example\n",
    "age = 35\n",
    "print(type(age))\n",
    "print(age)"
   ]
  },
  {
   "cell_type": "code",
   "execution_count": 21,
   "metadata": {},
   "outputs": [
    {
     "name": "stdout",
     "output_type": "stream",
     "text": [
      "7.5\n",
      "<class 'float'>\n"
     ]
    }
   ],
   "source": [
    "## Example floating point data type\n",
    "height = 7.5\n",
    "print(height)\n",
    "print(type(height))"
   ]
  },
  {
   "cell_type": "code",
   "execution_count": 22,
   "metadata": {},
   "outputs": [
    {
     "name": "stdout",
     "output_type": "stream",
     "text": [
      "Jasper\n",
      "<class 'str'>\n"
     ]
    }
   ],
   "source": [
    "## Example dayatype string\n",
    "\n",
    "name = \"Jasper\"\n",
    "print(name)\n",
    "print(type(name))"
   ]
  },
  {
   "cell_type": "code",
   "execution_count": 23,
   "metadata": {},
   "outputs": [
    {
     "name": "stdout",
     "output_type": "stream",
     "text": [
      "True\n",
      "<class 'bool'>\n"
     ]
    }
   ],
   "source": [
    "# Example boolean data type\n",
    "is_adult = True\n",
    "print(is_adult)\n",
    "print(type(is_adult))"
   ]
  },
  {
   "cell_type": "code",
   "execution_count": 24,
   "metadata": {},
   "outputs": [
    {
     "name": "stdout",
     "output_type": "stream",
     "text": [
      "<class 'bool'>\n"
     ]
    }
   ],
   "source": [
    "is_true = bool()\n",
    "print(type(is_true))"
   ]
  },
  {
   "cell_type": "code",
   "execution_count": 25,
   "metadata": {},
   "outputs": [
    {
     "name": "stdout",
     "output_type": "stream",
     "text": [
      "False\n"
     ]
    }
   ],
   "source": [
    "a = 10\n",
    "b = 20\n",
    "print(a==b)"
   ]
  },
  {
   "cell_type": "code",
   "execution_count": 28,
   "metadata": {},
   "outputs": [
    {
     "name": "stdout",
     "output_type": "stream",
     "text": [
      "a =  10\n",
      "b =  5\n",
      "a + b =  15\n",
      "a - b =  5\n",
      "a * b =  50\n",
      "a / b =  2.0\n",
      "a // b =  2\n",
      "a % b =  0\n"
     ]
    }
   ],
   "source": [
    "a = 10\n",
    "b = 5\n",
    "print(\"a = \", a)\n",
    "print(\"b = \", b)\n",
    "\n",
    "add_result = a + b\n",
    "sub_result = a - b\n",
    "mul_result = a * b\n",
    "div_result = a / b\n",
    "floor_div_result = a // b\n",
    "modulus_result = a % b\n",
    "print(\"a + b = \", add_result)\n",
    "print(\"a - b = \", sub_result)\n",
    "print(\"a * b = \", mul_result)\n",
    "print(\"a / b = \", div_result)\n",
    "print(\"a // b = \", floor_div_result)\n",
    "print(\"a % b = \", modulus_result)"
   ]
  },
  {
   "cell_type": "code",
   "execution_count": 29,
   "metadata": {},
   "outputs": [
    {
     "data": {
      "text/plain": [
       "True"
      ]
     },
     "execution_count": 29,
     "metadata": {},
     "output_type": "execute_result"
    }
   ],
   "source": [
    "# Comparison Operators\n",
    "# ==\n",
    "a = 10\n",
    "b = 10\n",
    "a==b"
   ]
  },
  {
   "cell_type": "code",
   "execution_count": 30,
   "metadata": {},
   "outputs": [
    {
     "data": {
      "text/plain": [
       "True"
      ]
     },
     "execution_count": 30,
     "metadata": {},
     "output_type": "execute_result"
    }
   ],
   "source": [
    "str1 = \"Hello\"\n",
    "str2 = \"Hello\"\n",
    "str1 == str2\n",
    "# Output: True"
   ]
  },
  {
   "cell_type": "code",
   "execution_count": 33,
   "metadata": {},
   "outputs": [
    {
     "data": {
      "text/plain": [
       "False"
      ]
     },
     "execution_count": 33,
     "metadata": {},
     "output_type": "execute_result"
    }
   ],
   "source": [
    "str1!=str2\n"
   ]
  },
  {
   "cell_type": "code",
   "execution_count": 35,
   "metadata": {},
   "outputs": [
    {
     "data": {
      "text/plain": [
       "True"
      ]
     },
     "execution_count": 35,
     "metadata": {},
     "output_type": "execute_result"
    }
   ],
   "source": [
    "# Comparison Operators\n",
    "# greater than\n",
    "# >\n",
    "\n",
    "num1 = 41\n",
    "num2 = 31\n",
    "num1 > num2"
   ]
  },
  {
   "cell_type": "code",
   "execution_count": 37,
   "metadata": {},
   "outputs": [
    {
     "data": {
      "text/plain": [
       "True"
      ]
     },
     "execution_count": 37,
     "metadata": {},
     "output_type": "execute_result"
    }
   ],
   "source": [
    "# Comparison Operators\n",
    "# lower than\n",
    "# <\n",
    "\n",
    "num1 = 51\n",
    "num2 = 61\n",
    "num1 < num2"
   ]
  },
  {
   "cell_type": "code",
   "execution_count": 38,
   "metadata": {},
   "outputs": [
    {
     "data": {
      "text/plain": [
       "True"
      ]
     },
     "execution_count": 38,
     "metadata": {},
     "output_type": "execute_result"
    }
   ],
   "source": [
    "# Comparison Operators\n",
    "# greater than or equal to \n",
    "# >=\n",
    "\n",
    "number1 = 45\n",
    "number2 = 45\n",
    "number1 >= number2"
   ]
  },
  {
   "cell_type": "code",
   "execution_count": 39,
   "metadata": {},
   "outputs": [
    {
     "data": {
      "text/plain": [
       "True"
      ]
     },
     "execution_count": 39,
     "metadata": {},
     "output_type": "execute_result"
    }
   ],
   "source": [
    "# Comparison Operators\n",
    "# lower than or equal to \n",
    "# <=\n",
    "\n",
    "number1 = 45\n",
    "number2 = 45\n",
    "number1 <= number2"
   ]
  },
  {
   "cell_type": "code",
   "execution_count": 41,
   "metadata": {},
   "outputs": [
    {
     "name": "stdout",
     "output_type": "stream",
     "text": [
      "True\n"
     ]
    }
   ],
   "source": [
    "## Logical operators\n",
    "# and\n",
    "# or    \n",
    "# not\n",
    "\n",
    "y = True\n",
    "x = True\n",
    "result = y and x\n",
    "print(result)"
   ]
  },
  {
   "cell_type": "code",
   "execution_count": null,
   "metadata": {},
   "outputs": [],
   "source": [
    "## Logical operators\n",
    "# and\n",
    "# or    \n",
    "# not\n",
    "\n",
    "y = True\n",
    "x = True\n",
    "result = y and x\n",
    "print(result)"
   ]
  }
 ],
 "metadata": {
  "kernelspec": {
   "display_name": "Python 3",
   "language": "python",
   "name": "python3"
  },
  "language_info": {
   "codemirror_mode": {
    "name": "ipython",
    "version": 3
   },
   "file_extension": ".py",
   "mimetype": "text/x-python",
   "name": "python",
   "nbconvert_exporter": "python",
   "pygments_lexer": "ipython3",
   "version": "3.12.0"
  }
 },
 "nbformat": 4,
 "nbformat_minor": 2
}
