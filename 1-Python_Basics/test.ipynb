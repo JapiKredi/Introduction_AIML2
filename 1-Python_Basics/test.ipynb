{
 "cells": [
  {
   "cell_type": "code",
   "execution_count": null,
   "metadata": {},
   "outputs": [],
   "source": []
  },
  {
   "cell_type": "markdown",
   "metadata": {},
   "source": [
    "### Python Example"
   ]
  },
  {
   "cell_type": "markdown",
   "metadata": {},
   "source": [
    "1+1"
   ]
  },
  {
   "cell_type": "markdown",
   "metadata": {},
   "source": [
    "print(1+1)"
   ]
  },
  {
   "cell_type": "code",
   "execution_count": 215,
   "metadata": {},
   "outputs": [
    {
     "data": {
      "text/plain": [
       "2"
      ]
     },
     "execution_count": 215,
     "metadata": {},
     "output_type": "execute_result"
    }
   ],
   "source": [
    "1+1"
   ]
  },
  {
   "cell_type": "code",
   "execution_count": 216,
   "metadata": {},
   "outputs": [
    {
     "name": "stdout",
     "output_type": "stream",
     "text": [
      "Hello world\n"
     ]
    }
   ],
   "source": [
    "print(\"Hello world\")"
   ]
  },
  {
   "cell_type": "code",
   "execution_count": 217,
   "metadata": {},
   "outputs": [
    {
     "name": "stdout",
     "output_type": "stream",
     "text": [
      "Jasper Bongers\n"
     ]
    }
   ],
   "source": [
    "name = \"Jasper\"\n",
    "surname = \"Bongers\"\n",
    "print(name + \" \" + surname)"
   ]
  },
  {
   "cell_type": "code",
   "execution_count": 218,
   "metadata": {},
   "outputs": [
    {
     "name": "stdout",
     "output_type": "stream",
     "text": [
      "You are older than 30\n"
     ]
    }
   ],
   "source": [
    "age=32\n",
    "if age > 30:\n",
    "    print(\"You are older than 30\")\n"
   ]
  },
  {
   "cell_type": "code",
   "execution_count": 219,
   "metadata": {},
   "outputs": [
    {
     "name": "stdout",
     "output_type": "stream",
     "text": [
      "55\n"
     ]
    }
   ],
   "source": [
    "# Use a backslash to continue a statement on the next line \n",
    "total = 1 + 2 + 3 + 4 + 5 + 6 + 7 \\\n",
    "    + 8 + 9 + 10\n",
    "print(total)"
   ]
  },
  {
   "cell_type": "code",
   "execution_count": 220,
   "metadata": {},
   "outputs": [
    {
     "name": "stdout",
     "output_type": "stream",
     "text": [
      "15\n"
     ]
    }
   ],
   "source": [
    "# Multiple statements on one line\n",
    "x = 5\n",
    "y = 10\n",
    "z = x + y\n",
    "print(z)"
   ]
  },
  {
   "cell_type": "code",
   "execution_count": 221,
   "metadata": {},
   "outputs": [
    {
     "name": "stdout",
     "output_type": "stream",
     "text": [
      "32\n",
      "Bongers\n",
      "My name is Bongers and I am 32 years old.\n"
     ]
    }
   ],
   "source": [
    "# Understand the semantics in Python\n",
    "age = 32 ## age is an integer\n",
    "name = 'Bongers' ## name is a string\n",
    "print(age)  # Output: 32\n",
    "print(name)  # Output: Bongers\n",
    "print('My name is', name, 'and I am', age, 'years old.')\n"
   ]
  },
  {
   "cell_type": "code",
   "execution_count": 222,
   "metadata": {},
   "outputs": [
    {
     "data": {
      "text/plain": [
       "str"
      ]
     },
     "execution_count": 222,
     "metadata": {},
     "output_type": "execute_result"
    }
   ],
   "source": [
    "type(name)"
   ]
  },
  {
   "cell_type": "code",
   "execution_count": 223,
   "metadata": {},
   "outputs": [
    {
     "data": {
      "text/plain": [
       "str"
      ]
     },
     "execution_count": 223,
     "metadata": {},
     "output_type": "execute_result"
    }
   ],
   "source": [
    "var = 10\n",
    "type(var)\n",
    "var = 'Jasper'\n",
    "type(var)"
   ]
  },
  {
   "cell_type": "code",
   "execution_count": 224,
   "metadata": {},
   "outputs": [
    {
     "name": "stdout",
     "output_type": "stream",
     "text": [
      "age:  32\n",
      "height:  6.1\n",
      "name:  Jasper\n",
      "is an adult?:  True\n",
      "is married?:  True\n"
     ]
    }
   ],
   "source": [
    "# Declaring and assigning Variables\n",
    "\n",
    "age = 32\n",
    "height = 6.1\n",
    "name = 'Jasper'\n",
    "is_adult = True\n",
    "is_married = True\n",
    "\n",
    "# printing the variables\n",
    "print(\"age: \", age)\n",
    "print(\"height: \", height)\n",
    "print(\"name: \", name)\n",
    "print(\"is an adult?: \", is_adult)\n",
    "print(\"is married?: \", is_married)\n"
   ]
  },
  {
   "cell_type": "code",
   "execution_count": 225,
   "metadata": {},
   "outputs": [],
   "source": [
    "# Naming conventions\n",
    "# Variable names should be descriptive\n",
    "# Variable names should be in lowercase\n",
    "# Variable names should be short\n",
    "# Variable names should be meaningful\n",
    "# Variable names should not start with a number; they can start with a letter or a underscore\n",
    "# Variable names should not contain special characters\n",
    "# Variable names should not contain spaces\n",
    "# Variable names should not be a keyword\n",
    "# Variable names should not be a built-in function name\n",
    "# Variable names should not be a class name\n",
    "# Variable names should not be a function name\n",
    "# Variable names should not be a module name\n",
    "# Variable names should not be a package name\n",
    "# Variable names should not be a constant\n"
   ]
  },
  {
   "cell_type": "code",
   "execution_count": 226,
   "metadata": {},
   "outputs": [
    {
     "name": "stdout",
     "output_type": "stream",
     "text": [
      "Jasper\n",
      "Bongers\n",
      "False\n",
      "Jasper\n",
      "Bongers\n"
     ]
    }
   ],
   "source": [
    "# Variable names are case-sensitive\n",
    "name = \"Jasper\"\n",
    "Name = \"Bongers\"\n",
    "print(name)\n",
    "print(Name)\n",
    "print(name == Name)\n",
    "# Output: Jasper\n",
    "# Output: Bongers\n",
    "# Variables can be reassigned\n",
    "name = \"Jasper\"\n",
    "print(name)\n",
    "name = \"Bongers\"\n",
    "print(name)\n",
    "\n"
   ]
  },
  {
   "cell_type": "code",
   "execution_count": 227,
   "metadata": {},
   "outputs": [
    {
     "name": "stdout",
     "output_type": "stream",
     "text": [
      "<class 'int'>\n",
      "<class 'float'>\n",
      "<class 'str'>\n",
      "<class 'bool'>\n",
      "<class 'bool'>\n"
     ]
    }
   ],
   "source": [
    "# Important to understand variable types\n",
    "age = 32\n",
    "height = 6.1\n",
    "name = 'Jasper'\n",
    "is_adult = True\n",
    "is_married = True\n",
    "print(type(age))\n",
    "print(type(height))\n",
    "print(type(name))\n",
    "print(type(is_adult))\n",
    "print(type(is_married))"
   ]
  },
  {
   "cell_type": "code",
   "execution_count": 228,
   "metadata": {},
   "outputs": [
    {
     "name": "stdout",
     "output_type": "stream",
     "text": [
      "<class 'int'>\n",
      "<class 'str'>\n"
     ]
    }
   ],
   "source": [
    "# Type checking and type conversion\n",
    "\n",
    "#Type checking\n",
    "age = 25\n",
    "print(type(age))\n",
    "\n",
    "# Type conversion\n",
    "age_str = str(age)\n",
    "print(type(age_str))"
   ]
  },
  {
   "cell_type": "code",
   "execution_count": 229,
   "metadata": {},
   "outputs": [
    {
     "name": "stdout",
     "output_type": "stream",
     "text": [
      "<class 'str'>\n",
      "<class 'int'>\n"
     ]
    }
   ],
   "source": [
    "age = \"25\"\n",
    "print(type(age))\n",
    "str_age = int(age)\n",
    "print(type(str_age))"
   ]
  },
  {
   "cell_type": "code",
   "execution_count": 230,
   "metadata": {},
   "outputs": [
    {
     "name": "stdout",
     "output_type": "stream",
     "text": [
      "<class 'str'>\n"
     ]
    },
    {
     "ename": "ValueError",
     "evalue": "invalid literal for int() with base 10: 'Jasper'",
     "output_type": "error",
     "traceback": [
      "\u001b[0;31m---------------------------------------------------------------------------\u001b[0m",
      "\u001b[0;31mValueError\u001b[0m                                Traceback (most recent call last)",
      "Cell \u001b[0;32mIn[230], line 3\u001b[0m\n\u001b[1;32m      1\u001b[0m name \u001b[38;5;241m=\u001b[39m \u001b[38;5;124m\"\u001b[39m\u001b[38;5;124mJasper\u001b[39m\u001b[38;5;124m\"\u001b[39m\n\u001b[1;32m      2\u001b[0m \u001b[38;5;28mprint\u001b[39m(\u001b[38;5;28mtype\u001b[39m(name))\n\u001b[0;32m----> 3\u001b[0m int_name \u001b[38;5;241m=\u001b[39m \u001b[38;5;28;43mint\u001b[39;49m\u001b[43m(\u001b[49m\u001b[43mname\u001b[49m\u001b[43m)\u001b[49m\n\u001b[1;32m      4\u001b[0m \u001b[38;5;28mprint\u001b[39m(\u001b[38;5;28mtype\u001b[39m(int_name))\n",
      "\u001b[0;31mValueError\u001b[0m: invalid literal for int() with base 10: 'Jasper'"
     ]
    }
   ],
   "source": [
    "name = \"Jasper\"\n",
    "print(type(name))\n",
    "int_name = int(name)\n",
    "print(type(int_name))"
   ]
  },
  {
   "cell_type": "code",
   "execution_count": null,
   "metadata": {},
   "outputs": [
    {
     "name": "stdout",
     "output_type": "stream",
     "text": [
      "7\n"
     ]
    }
   ],
   "source": [
    "height = 7.0\n",
    "type(height)\n",
    "print(int(height))\n"
   ]
  },
  {
   "cell_type": "code",
   "execution_count": null,
   "metadata": {},
   "outputs": [
    {
     "name": "stdout",
     "output_type": "stream",
     "text": [
      "10 <class 'int'>\n",
      "Hello <class 'str'>\n",
      "3.14 <class 'float'>\n"
     ]
    }
   ],
   "source": [
    "# Dynamic Typing\n",
    "# Python allows the type of the variable to change during the execution of the program\n",
    "var = 10\n",
    "print(var,type(var))\n",
    "var = \"Hello\"\n",
    "print(var,type(var))\n",
    "var = 3.14\n",
    "print(var,type(var))\n"
   ]
  },
  {
   "cell_type": "code",
   "execution_count": null,
   "metadata": {},
   "outputs": [
    {
     "name": "stdout",
     "output_type": "stream",
     "text": [
      "Hello Jasper\n",
      "<class 'str'>\n"
     ]
    }
   ],
   "source": [
    "## input\n",
    "name = input(\"What is your name? \")\n",
    "print(\"Hello\", name)\n",
    "print(type(name))\n",
    "# output\n",
    "# What is your name? Jasper\n",
    "# Hello Jasper\n"
   ]
  },
  {
   "cell_type": "code",
   "execution_count": null,
   "metadata": {},
   "outputs": [
    {
     "name": "stdout",
     "output_type": "stream",
     "text": [
      "Hello 5\n",
      "<class 'str'>\n"
     ]
    }
   ],
   "source": [
    "# Input\n",
    "\n",
    "age = input(\"What is your age?\")\n",
    "print(\"Hello\", age)\n",
    "print(type(age))\n",
    "\n"
   ]
  },
  {
   "cell_type": "code",
   "execution_count": null,
   "metadata": {},
   "outputs": [
    {
     "name": "stdout",
     "output_type": "stream",
     "text": [
      "<class 'int'>\n",
      "35\n"
     ]
    }
   ],
   "source": [
    "## Integer Example\n",
    "age = 35\n",
    "print(type(age))\n",
    "print(age)"
   ]
  },
  {
   "cell_type": "code",
   "execution_count": null,
   "metadata": {},
   "outputs": [
    {
     "name": "stdout",
     "output_type": "stream",
     "text": [
      "7.5\n",
      "<class 'float'>\n"
     ]
    }
   ],
   "source": [
    "## Example floating point data type\n",
    "height = 7.5\n",
    "print(height)\n",
    "print(type(height))"
   ]
  },
  {
   "cell_type": "code",
   "execution_count": null,
   "metadata": {},
   "outputs": [
    {
     "name": "stdout",
     "output_type": "stream",
     "text": [
      "Jasper\n",
      "<class 'str'>\n"
     ]
    }
   ],
   "source": [
    "## Example dayatype string\n",
    "\n",
    "name = \"Jasper\"\n",
    "print(name)\n",
    "print(type(name))"
   ]
  },
  {
   "cell_type": "code",
   "execution_count": null,
   "metadata": {},
   "outputs": [
    {
     "name": "stdout",
     "output_type": "stream",
     "text": [
      "True\n",
      "<class 'bool'>\n"
     ]
    }
   ],
   "source": [
    "# Example boolean data type\n",
    "is_adult = True\n",
    "print(is_adult)\n",
    "print(type(is_adult))"
   ]
  },
  {
   "cell_type": "code",
   "execution_count": null,
   "metadata": {},
   "outputs": [
    {
     "name": "stdout",
     "output_type": "stream",
     "text": [
      "<class 'bool'>\n"
     ]
    }
   ],
   "source": [
    "is_true = bool()\n",
    "print(type(is_true))"
   ]
  },
  {
   "cell_type": "code",
   "execution_count": null,
   "metadata": {},
   "outputs": [
    {
     "name": "stdout",
     "output_type": "stream",
     "text": [
      "False\n"
     ]
    }
   ],
   "source": [
    "a = 10\n",
    "b = 20\n",
    "print(a==b)"
   ]
  },
  {
   "cell_type": "code",
   "execution_count": null,
   "metadata": {},
   "outputs": [
    {
     "name": "stdout",
     "output_type": "stream",
     "text": [
      "a =  10\n",
      "b =  5\n",
      "a + b =  15\n",
      "a - b =  5\n",
      "a * b =  50\n",
      "a / b =  2.0\n",
      "a // b =  2\n",
      "a % b =  0\n"
     ]
    }
   ],
   "source": [
    "a = 10\n",
    "b = 5\n",
    "print(\"a = \", a)\n",
    "print(\"b = \", b)\n",
    "\n",
    "add_result = a + b\n",
    "sub_result = a - b\n",
    "mul_result = a * b\n",
    "div_result = a / b\n",
    "floor_div_result = a // b\n",
    "modulus_result = a % b\n",
    "print(\"a + b = \", add_result)\n",
    "print(\"a - b = \", sub_result)\n",
    "print(\"a * b = \", mul_result)\n",
    "print(\"a / b = \", div_result)\n",
    "print(\"a // b = \", floor_div_result)\n",
    "print(\"a % b = \", modulus_result)"
   ]
  },
  {
   "cell_type": "code",
   "execution_count": null,
   "metadata": {},
   "outputs": [
    {
     "data": {
      "text/plain": [
       "True"
      ]
     },
     "execution_count": 29,
     "metadata": {},
     "output_type": "execute_result"
    }
   ],
   "source": [
    "# Comparison Operators\n",
    "# ==\n",
    "a = 10\n",
    "b = 10\n",
    "a==b"
   ]
  },
  {
   "cell_type": "code",
   "execution_count": null,
   "metadata": {},
   "outputs": [
    {
     "data": {
      "text/plain": [
       "True"
      ]
     },
     "execution_count": 30,
     "metadata": {},
     "output_type": "execute_result"
    }
   ],
   "source": [
    "str1 = \"Hello\"\n",
    "str2 = \"Hello\"\n",
    "str1 == str2\n",
    "# Output: True"
   ]
  },
  {
   "cell_type": "code",
   "execution_count": null,
   "metadata": {},
   "outputs": [
    {
     "data": {
      "text/plain": [
       "False"
      ]
     },
     "execution_count": 33,
     "metadata": {},
     "output_type": "execute_result"
    }
   ],
   "source": [
    "str1!=str2\n"
   ]
  },
  {
   "cell_type": "code",
   "execution_count": null,
   "metadata": {},
   "outputs": [
    {
     "data": {
      "text/plain": [
       "True"
      ]
     },
     "execution_count": 35,
     "metadata": {},
     "output_type": "execute_result"
    }
   ],
   "source": [
    "# Comparison Operators\n",
    "# greater than\n",
    "# >\n",
    "\n",
    "num1 = 41\n",
    "num2 = 31\n",
    "num1 > num2"
   ]
  },
  {
   "cell_type": "code",
   "execution_count": null,
   "metadata": {},
   "outputs": [
    {
     "data": {
      "text/plain": [
       "True"
      ]
     },
     "execution_count": 37,
     "metadata": {},
     "output_type": "execute_result"
    }
   ],
   "source": [
    "# Comparison Operators\n",
    "# lower than\n",
    "# <\n",
    "\n",
    "num1 = 51\n",
    "num2 = 61\n",
    "num1 < num2"
   ]
  },
  {
   "cell_type": "code",
   "execution_count": null,
   "metadata": {},
   "outputs": [
    {
     "data": {
      "text/plain": [
       "True"
      ]
     },
     "execution_count": 38,
     "metadata": {},
     "output_type": "execute_result"
    }
   ],
   "source": [
    "# Comparison Operators\n",
    "# greater than or equal to \n",
    "# >=\n",
    "\n",
    "number1 = 45\n",
    "number2 = 45\n",
    "number1 >= number2"
   ]
  },
  {
   "cell_type": "code",
   "execution_count": null,
   "metadata": {},
   "outputs": [
    {
     "data": {
      "text/plain": [
       "True"
      ]
     },
     "execution_count": 39,
     "metadata": {},
     "output_type": "execute_result"
    }
   ],
   "source": [
    "# Comparison Operators\n",
    "# lower than or equal to \n",
    "# <=\n",
    "\n",
    "number1 = 45\n",
    "number2 = 45\n",
    "number1 <= number2"
   ]
  },
  {
   "cell_type": "code",
   "execution_count": null,
   "metadata": {},
   "outputs": [
    {
     "name": "stdout",
     "output_type": "stream",
     "text": [
      "True\n"
     ]
    }
   ],
   "source": [
    "## Logical operators\n",
    "# and\n",
    "# or    \n",
    "# not\n",
    "\n",
    "y = True\n",
    "x = True\n",
    "result = y and x\n",
    "print(result)"
   ]
  },
  {
   "cell_type": "code",
   "execution_count": null,
   "metadata": {},
   "outputs": [
    {
     "name": "stdout",
     "output_type": "stream",
     "text": [
      "True\n"
     ]
    }
   ],
   "source": [
    "## Logical operators\n",
    "# and\n",
    "# or    \n",
    "# not\n",
    "\n",
    "y = True\n",
    "x = False\n",
    "result = y or x\n",
    "print(result)"
   ]
  },
  {
   "cell_type": "code",
   "execution_count": null,
   "metadata": {},
   "outputs": [
    {
     "data": {
      "text/plain": [
       "False"
      ]
     },
     "execution_count": 43,
     "metadata": {},
     "output_type": "execute_result"
    }
   ],
   "source": [
    "## Logical operators\n",
    "# and\n",
    "# or    \n",
    "# not\n",
    "\n",
    "y = True\n",
    "not y"
   ]
  },
  {
   "cell_type": "code",
   "execution_count": null,
   "metadata": {},
   "outputs": [
    {
     "name": "stdout",
     "output_type": "stream",
     "text": [
      "75.0\n"
     ]
    }
   ],
   "source": [
    "## Simple calculator\n",
    "\n",
    "num1 = input(\"Enter first number: \")\n",
    "num2 = input(\"Enter second number: \")\n",
    "operator = input(\"Enter operator: \")\n",
    "num1 = float(num1)\n",
    "num2 = float(num2)\n",
    "if operator == \"+\":\n",
    "    print(num1 + num2)\n",
    "elif operator == \"-\":\n",
    "    print(num1 - num2)\n",
    "elif operator == \"*\":\n",
    "    print(num1 * num2)\n",
    "elif operator == \"/\":\n",
    "    print(num1 / num2)\n",
    "else:\n",
    "    print(\"Invalid operator\")\n"
   ]
  },
  {
   "cell_type": "code",
   "execution_count": null,
   "metadata": {},
   "outputs": [],
   "source": [
    "# Control Flow & Conditional statements\n",
    "# If statement\n",
    "# If-else statement\n",
    "# If-elif-else statement\n",
    "# Nested if statement"
   ]
  },
  {
   "cell_type": "code",
   "execution_count": null,
   "metadata": {},
   "outputs": [
    {
     "name": "stdout",
     "output_type": "stream",
     "text": [
      "You are an adult\n"
     ]
    }
   ],
   "source": [
    "# If statement\n",
    "age = 20\n",
    "if age >= 18:\n",
    "    print(\"You are an adult\")"
   ]
  },
  {
   "cell_type": "code",
   "execution_count": null,
   "metadata": {},
   "outputs": [
    {
     "data": {
      "text/plain": [
       "True"
      ]
     },
     "execution_count": 48,
     "metadata": {},
     "output_type": "execute_result"
    }
   ],
   "source": [
    "age >= 18"
   ]
  },
  {
   "cell_type": "code",
   "execution_count": null,
   "metadata": {},
   "outputs": [
    {
     "name": "stdout",
     "output_type": "stream",
     "text": [
      "You are not an adult\n"
     ]
    }
   ],
   "source": [
    "# Control Flow & Conditional statements\n",
    "## if-else statement\n",
    "\n",
    "age = 16\n",
    "if age >= 18:\n",
    "    print(\"You are an adult\")\n",
    "else:\n",
    "    print(\"You are not an adult\")\n"
   ]
  },
  {
   "cell_type": "code",
   "execution_count": null,
   "metadata": {},
   "outputs": [
    {
     "name": "stdout",
     "output_type": "stream",
     "text": [
      "You are an adult\n"
     ]
    }
   ],
   "source": [
    "# Control Flow & Conditional statements\n",
    "# If-elif-else statement\n",
    "\n",
    "age = 20\n",
    "if age <13:\n",
    "    print(\"You are a child\")\n",
    "elif age < 18:\n",
    "    print(\"You are a teenager\")\n",
    "elif age < 65:\n",
    "    print(\"You are an adult\")\n",
    "elif age >= 65:\n",
    "    print(\"You are a senior citizen\")"
   ]
  },
  {
   "cell_type": "code",
   "execution_count": null,
   "metadata": {},
   "outputs": [
    {
     "name": "stdout",
     "output_type": "stream",
     "text": [
      "The number is negative\n"
     ]
    }
   ],
   "source": [
    "# Nested Conditional Statements\n",
    "# you can place one or more if, elif or else statements inside another conditional statement\n",
    "# this is called a nested conditional statement\n",
    "\n",
    "num = int(input(\"Enter the number: \"))\n",
    "if num >0:\n",
    "    print(\"The number is positive\")\n",
    "    if num % 2 == 0:\n",
    "        print(\"The number is even\")\n",
    "    else:\n",
    "        print(\"The number is odd\")\n",
    "else:\n",
    "    print(\"The number is negative\")\n",
    "    "
   ]
  },
  {
   "cell_type": "code",
   "execution_count": null,
   "metadata": {},
   "outputs": [
    {
     "name": "stdout",
     "output_type": "stream",
     "text": [
      "1970 is a not leap year\n"
     ]
    }
   ],
   "source": [
    "# Practical Examples\n",
    "# Determine if a year is a leap year using nested conditional statements\n",
    "year = int(input(\"Enter the year: \"))\n",
    "if year % 4 == 0:\n",
    "    if year % 100 == 0:\n",
    "        if year % 400 == 0:\n",
    "            print(year, \" is a leap year\")\n",
    "        else:\n",
    "            print(year, \"is not a leap year\")\n",
    "    else:\n",
    "        print(year, \"is a leap year\")\n",
    "else:\n",
    "    print(year, \"is a not leap year\")"
   ]
  },
  {
   "cell_type": "code",
   "execution_count": null,
   "metadata": {},
   "outputs": [
    {
     "name": "stdout",
     "output_type": "stream",
     "text": [
      "15\n"
     ]
    }
   ],
   "source": [
    "# Assignment\n",
    "# Create a simple calculator\n",
    "# Define a function that takes two numbers and an operator as input\n",
    "# The function should return the result of the operation\n",
    "# The function should support addition, subtraction, multiplication and division\n",
    "# The function should handle invalid operators and return an error message\n",
    "# Test the function with different inputs\n",
    "\n",
    "def calculator(num1, num2, operator):\n",
    "    if operator == '+':\n",
    "        return num1 + num2\n",
    "    elif operator == '-':\n",
    "        return num1 - num2\n",
    "    elif operator == '*':\n",
    "        return num1 * num2\n",
    "    elif operator == '/':\n",
    "        return num1 / num2\n",
    "    else:\n",
    "        return \"Invalid operator\"\n",
    "\n",
    "num1 = 10\n",
    "num2 = 5\n",
    "operator = '+'\n",
    "result = calculator(num1, num2, operator)\n",
    "print(result)\n",
    "    "
   ]
  },
  {
   "cell_type": "code",
   "execution_count": null,
   "metadata": {},
   "outputs": [
    {
     "data": {
      "text/plain": [
       "10"
      ]
     },
     "execution_count": 59,
     "metadata": {},
     "output_type": "execute_result"
    }
   ],
   "source": [
    "def calculator():\n",
    "    num1 = int(input(\"PLease give the first number:\"))\n",
    "    num2 = int(input(\"Please give the second number:\"))\n",
    "    operator = input(\"Please give the operator: \")\n",
    "    if operator == '+':\n",
    "        return num1 + num2\n",
    "    elif operator == '-':\n",
    "        return num1 - num2\n",
    "    elif operator == '*':\n",
    "        return num1 * num2\n",
    "    elif operator == '/':\n",
    "        return num1 / num2\n",
    "    else:\n",
    "        return \"Invalid operator\"\n",
    "\n",
    "calculator()\n",
    "print(calculator())  # This will print the result of the calculation"
   ]
  },
  {
   "cell_type": "code",
   "execution_count": null,
   "metadata": {},
   "outputs": [
    {
     "name": "stdout",
     "output_type": "stream",
     "text": [
      "The ticket price is $25\n"
     ]
    }
   ],
   "source": [
    "## Example\n",
    "## Determine the ticket price based on the age\n",
    "\n",
    "# Take the user input\n",
    "age = int(input(\"Please give your age:\"))\n",
    "is_student = input(\"Are you a student? (yes/no):\").lower()\n",
    "\n",
    "# Determine the ticket price\n",
    "if age < 5:\n",
    "    price = \"Free\"\n",
    "elif age <= 12:\n",
    "    price = \"$10\"\n",
    "elif age <= 17:\n",
    "    if is_student == \"yes\":\n",
    "        price = \"$8\"\n",
    "    else:\n",
    "        price = \"$12\"\n",
    "else:\n",
    "    price = \"$25\"\n",
    "    \n",
    "print(\"The ticket price is\", price)"
   ]
  },
  {
   "cell_type": "code",
   "execution_count": null,
   "metadata": {},
   "outputs": [],
   "source": [
    "# Loops\n",
    "# For loop\n",
    "# While loop\n",
    "# Nested loops\n"
   ]
  },
  {
   "cell_type": "code",
   "execution_count": null,
   "metadata": {},
   "outputs": [
    {
     "data": {
      "text/plain": [
       "range(0, 5)"
      ]
     },
     "execution_count": 63,
     "metadata": {},
     "output_type": "execute_result"
    }
   ],
   "source": [
    "# for loop\n",
    "range(5)"
   ]
  },
  {
   "cell_type": "code",
   "execution_count": null,
   "metadata": {},
   "outputs": [
    {
     "name": "stdout",
     "output_type": "stream",
     "text": [
      "0\n",
      "1\n",
      "2\n",
      "3\n",
      "4\n"
     ]
    }
   ],
   "source": [
    "for i in range(5):\n",
    "    print(i)"
   ]
  },
  {
   "cell_type": "code",
   "execution_count": null,
   "metadata": {},
   "outputs": [
    {
     "name": "stdout",
     "output_type": "stream",
     "text": [
      "1\n",
      "2\n",
      "3\n",
      "4\n",
      "5\n"
     ]
    }
   ],
   "source": [
    "for i in range(1,6):\n",
    "    print(i)"
   ]
  },
  {
   "cell_type": "code",
   "execution_count": null,
   "metadata": {},
   "outputs": [
    {
     "data": {
      "text/plain": [
       "range(1, 10, 2)"
      ]
     },
     "execution_count": 67,
     "metadata": {},
     "output_type": "execute_result"
    }
   ],
   "source": [
    "range(1,10,2)"
   ]
  },
  {
   "cell_type": "code",
   "execution_count": null,
   "metadata": {},
   "outputs": [
    {
     "name": "stdout",
     "output_type": "stream",
     "text": [
      "1\n",
      "3\n",
      "5\n",
      "7\n",
      "9\n"
     ]
    }
   ],
   "source": [
    "for i in range(1,10,2):\n",
    "    print(i)"
   ]
  },
  {
   "cell_type": "code",
   "execution_count": null,
   "metadata": {},
   "outputs": [],
   "source": [
    "for i in range(1,10,-1):\n",
    "    print(i)"
   ]
  },
  {
   "cell_type": "code",
   "execution_count": null,
   "metadata": {},
   "outputs": [
    {
     "name": "stdout",
     "output_type": "stream",
     "text": [
      "10\n",
      "9\n",
      "8\n",
      "7\n",
      "6\n",
      "5\n",
      "4\n",
      "3\n",
      "2\n"
     ]
    }
   ],
   "source": [
    "for i in range(10,1,-1):\n",
    "    print(i)"
   ]
  },
  {
   "cell_type": "code",
   "execution_count": null,
   "metadata": {},
   "outputs": [
    {
     "name": "stdout",
     "output_type": "stream",
     "text": [
      "J\n",
      "a\n",
      "s\n",
      "p\n",
      "e\n",
      "r\n",
      " \n",
      "B\n",
      "o\n",
      "n\n",
      "g\n",
      "e\n",
      "r\n",
      "s\n"
     ]
    }
   ],
   "source": [
    "my_string = \"Jasper Bongers\"\n",
    "for i in my_string:\n",
    "    print(i)"
   ]
  },
  {
   "cell_type": "code",
   "execution_count": null,
   "metadata": {},
   "outputs": [],
   "source": [
    "# While loop\n",
    "# The while loop is used to execute a block of code repeatedly as long as the condition is true\n",
    "# The condition is evaluated before each iteration of the loop\n",
    "# The condition is checked at the beginning of each iteration of the loop\n",
    "# The condition is checked again at the end of each iteration of the loop\n"
   ]
  },
  {
   "cell_type": "code",
   "execution_count": null,
   "metadata": {},
   "outputs": [
    {
     "name": "stdout",
     "output_type": "stream",
     "text": [
      "0\n",
      "1\n",
      "2\n",
      "3\n",
      "4\n"
     ]
    }
   ],
   "source": [
    "count = 0 \n",
    "\n",
    "while count <5:\n",
    "    print(count)\n",
    "    count = count + 1\n",
    "    "
   ]
  },
  {
   "cell_type": "code",
   "execution_count": null,
   "metadata": {},
   "outputs": [
    {
     "name": "stdout",
     "output_type": "stream",
     "text": [
      "0\n",
      "1\n",
      "2\n",
      "3\n",
      "4\n",
      "Done\n"
     ]
    }
   ],
   "source": [
    "# Loop control statements\n",
    "# Break statements\n",
    "\n",
    "for i in range (10):\n",
    "    if i == 5:\n",
    "        break\n",
    "    print(i)\n",
    "    \n",
    "print(\"Done\")\n"
   ]
  },
  {
   "cell_type": "code",
   "execution_count": null,
   "metadata": {},
   "outputs": [
    {
     "name": "stdout",
     "output_type": "stream",
     "text": [
      "0\n",
      "1\n",
      "2\n",
      "3\n",
      "4\n"
     ]
    }
   ],
   "source": [
    "# break function\n",
    "\n",
    "for i in range(10):\n",
    "    if i == 5:\n",
    "        break\n",
    "    print(i)"
   ]
  },
  {
   "cell_type": "code",
   "execution_count": null,
   "metadata": {},
   "outputs": [
    {
     "name": "stdout",
     "output_type": "stream",
     "text": [
      "0\n",
      "1\n",
      "2\n",
      "3\n",
      "4\n",
      "6\n",
      "7\n",
      "8\n",
      "9\n"
     ]
    }
   ],
   "source": [
    "# continue function\n",
    "\n",
    "for i in range(10):\n",
    "    if i == 5:\n",
    "        continue\n",
    "    print(i)    "
   ]
  },
  {
   "cell_type": "code",
   "execution_count": null,
   "metadata": {},
   "outputs": [
    {
     "name": "stdout",
     "output_type": "stream",
     "text": [
      "1\n",
      "3\n",
      "5\n",
      "7\n",
      "9\n"
     ]
    }
   ],
   "source": [
    "# continue function\n",
    "\n",
    "for i in range(10):\n",
    "    if i%2==0:\n",
    "        continue\n",
    "    print(i)"
   ]
  },
  {
   "cell_type": "code",
   "execution_count": null,
   "metadata": {},
   "outputs": [
    {
     "name": "stdout",
     "output_type": "stream",
     "text": [
      "0\n",
      "1\n",
      "2\n",
      "3\n",
      "4\n"
     ]
    }
   ],
   "source": [
    "for i in range(5):\n",
    "    if i==3:\n",
    "        pass\n",
    "    print(i)"
   ]
  },
  {
   "cell_type": "code",
   "execution_count": null,
   "metadata": {},
   "outputs": [
    {
     "name": "stdout",
     "output_type": "stream",
     "text": [
      "i: 0, j: 0\n",
      "i: 0, j: 1\n",
      "i: 1, j: 0\n",
      "i: 1, j: 1\n",
      "i: 2, j: 0\n",
      "i: 2, j: 1\n"
     ]
    }
   ],
   "source": [
    "## Nested Loops\n",
    "## Loop inside a loop\n",
    "\n",
    "for i in range(3):\n",
    "    for j in range(2):\n",
    "        print(f\"i: {i}, j: {j}\")"
   ]
  },
  {
   "cell_type": "code",
   "execution_count": null,
   "metadata": {},
   "outputs": [
    {
     "name": "stdout",
     "output_type": "stream",
     "text": [
      "The sum of first 10 natural numbers is 55\n"
     ]
    }
   ],
   "source": [
    "## Examples- Calculate the sum of first N natural numbers using a while abnd for loop\n",
    "\n",
    "# while loop\n",
    "\n",
    "n = 10\n",
    "sum = 0\n",
    "count = 1\n",
    "\n",
    "while count <= n:\n",
    "    sum = sum + count\n",
    "    count = count + 1\n",
    "    \n",
    "print(\"The sum of first\", n, \"natural numbers is\", sum)\n"
   ]
  },
  {
   "cell_type": "code",
   "execution_count": null,
   "metadata": {},
   "outputs": [
    {
     "name": "stdout",
     "output_type": "stream",
     "text": [
      "2\n"
     ]
    }
   ],
   "source": [
    "## Example - Prime numbers between 1 and 100\n",
    "\n",
    "for num in range(1,101):\n",
    "    if num > 1:\n",
    "        for i in range(2,num):\n",
    "            if num % i == 0:\n",
    "                break\n",
    "        else:\n",
    "            print(num)\n",
    "            break"
   ]
  },
  {
   "cell_type": "code",
   "execution_count": null,
   "metadata": {},
   "outputs": [
    {
     "name": "stdout",
     "output_type": "stream",
     "text": [
      "2\n",
      "3\n",
      "5\n",
      "7\n",
      "11\n",
      "13\n",
      "17\n",
      "19\n",
      "23\n",
      "29\n",
      "31\n",
      "37\n",
      "41\n",
      "43\n",
      "47\n",
      "53\n",
      "59\n",
      "61\n",
      "67\n",
      "71\n",
      "73\n",
      "79\n",
      "83\n",
      "89\n",
      "97\n"
     ]
    }
   ],
   "source": [
    "## Example - Prime numbers between 1 and 100\n",
    " \n",
    "\n",
    "for num in range(1,101):\n",
    "    if num>1:\n",
    "        for i in range(2,num):\n",
    "            if num % i == 0:\n",
    "                 break\n",
    "        else:\n",
    "            print(num)\n"
   ]
  },
  {
   "cell_type": "code",
   "execution_count": null,
   "metadata": {},
   "outputs": [],
   "source": [
    "# List and List comprehensions in Python\n",
    "\n",
    "# Lists are ordered, mutable and allow duplicate elements\n",
    "# List are created with squared brackets []\n",
    "# Lists can contain different data types\n",
    "# Lists can be nested\n",
    "\n"
   ]
  },
  {
   "cell_type": "code",
   "execution_count": null,
   "metadata": {},
   "outputs": [
    {
     "name": "stdout",
     "output_type": "stream",
     "text": [
      "['Jasper', 'Bongers', 'John', 'Doe', 1, 2, 3, 4, 5]\n"
     ]
    }
   ],
   "source": [
    "names = ['Jasper', 'Bongers', 'John', 'Doe', 1,2,3,4,5]\n",
    "print(names)"
   ]
  },
  {
   "cell_type": "code",
   "execution_count": null,
   "metadata": {},
   "outputs": [
    {
     "name": "stdout",
     "output_type": "stream",
     "text": [
      "['Jasper', 32, 6.1, True]\n"
     ]
    }
   ],
   "source": [
    "mixed_list = ['Jasper', 32, 6.1, True]\n",
    "print(mixed_list)"
   ]
  },
  {
   "cell_type": "code",
   "execution_count": null,
   "metadata": {},
   "outputs": [
    {
     "name": "stdout",
     "output_type": "stream",
     "text": [
      "apple\n",
      "banana\n"
     ]
    }
   ],
   "source": [
    "# Accessing list items\n",
    "\n",
    "fruits = ['apple', 'banana', 'cherry', 'date']\n",
    "print(fruits[0])\n",
    "print(fruits[1])"
   ]
  },
  {
   "cell_type": "code",
   "execution_count": null,
   "metadata": {},
   "outputs": [
    {
     "data": {
      "text/plain": [
       "'date'"
      ]
     },
     "execution_count": 101,
     "metadata": {},
     "output_type": "execute_result"
    }
   ],
   "source": [
    "fruits = ['apple', 'banana', 'cherry', 'date']\n",
    "fruits[-1]"
   ]
  },
  {
   "cell_type": "code",
   "execution_count": null,
   "metadata": {},
   "outputs": [
    {
     "data": {
      "text/plain": [
       "['banana', 'cherry', 'date']"
      ]
     },
     "execution_count": 102,
     "metadata": {},
     "output_type": "execute_result"
    }
   ],
   "source": [
    "fruits = ['apple', 'banana', 'cherry', 'date']\n",
    "fruits[1:]"
   ]
  },
  {
   "cell_type": "code",
   "execution_count": null,
   "metadata": {},
   "outputs": [
    {
     "data": {
      "text/plain": [
       "['banana', 'cherry']"
      ]
     },
     "execution_count": 103,
     "metadata": {},
     "output_type": "execute_result"
    }
   ],
   "source": [
    "fruits = ['apple', 'banana', 'cherry', 'date']\n",
    "fruits[1:3]"
   ]
  },
  {
   "cell_type": "code",
   "execution_count": null,
   "metadata": {},
   "outputs": [
    {
     "name": "stdout",
     "output_type": "stream",
     "text": [
      "['apple', 'blueberry', 'cherry', 'date']\n"
     ]
    }
   ],
   "source": [
    "# Modify the list \n",
    "\n",
    "fruits = ['apple', 'banana', 'cherry', 'date']\n",
    "fruits[1] = 'blueberry'\n",
    "print(fruits)\n"
   ]
  },
  {
   "cell_type": "code",
   "execution_count": null,
   "metadata": {},
   "outputs": [
    {
     "name": "stdout",
     "output_type": "stream",
     "text": [
      "['apple', 'w', 'a', 't', 'e', 'r', 'm', 'e', 'l', 'o', 'n']\n"
     ]
    }
   ],
   "source": [
    "fruits = ['apple', 'banana', 'cherry', 'date']\n",
    "fruits[1:] = 'watermelon'\n",
    "print(fruits)"
   ]
  },
  {
   "cell_type": "code",
   "execution_count": null,
   "metadata": {},
   "outputs": [
    {
     "name": "stdout",
     "output_type": "stream",
     "text": [
      "['apple', 'banana', 'cherry', 'date', 'orange']\n"
     ]
    }
   ],
   "source": [
    "# List methods\n",
    "fruits = ['apple', 'banana', 'cherry', 'date']\n",
    "fruits.append('orange') ## this will add an item to the end of the list\n",
    "print(fruits)"
   ]
  },
  {
   "cell_type": "code",
   "execution_count": null,
   "metadata": {},
   "outputs": [
    {
     "name": "stdout",
     "output_type": "stream",
     "text": [
      "['apple', 'watermelon', 'banana', 'cherry', 'date']\n"
     ]
    }
   ],
   "source": [
    "# List methods\n",
    "fruits = ['apple', 'banana', 'cherry', 'date']\n",
    "fruits.insert(1, 'watermelon')\n",
    "print(fruits)"
   ]
  },
  {
   "cell_type": "code",
   "execution_count": null,
   "metadata": {},
   "outputs": [
    {
     "name": "stdout",
     "output_type": "stream",
     "text": [
      "['apple', 'cherry', 'date']\n"
     ]
    }
   ],
   "source": [
    "# List methods\n",
    "# remove method\n",
    "fruits = ['apple', 'banana', 'cherry', 'date']\n",
    "fruits.remove('banana')\n",
    "print(fruits)"
   ]
  },
  {
   "cell_type": "code",
   "execution_count": null,
   "metadata": {},
   "outputs": [
    {
     "name": "stdout",
     "output_type": "stream",
     "text": [
      "['apple', 'cherry', 'date', 'banana']\n"
     ]
    }
   ],
   "source": [
    "# List methods\n",
    "# remove method\n",
    "fruits = ['apple', 'banana', 'cherry', 'date', 'banana']\n",
    "fruits.remove('banana')\n",
    "print(fruits)\n",
    "# Conclusion is that the remove method is removing the first occurance of the item in the list"
   ]
  },
  {
   "cell_type": "code",
   "execution_count": null,
   "metadata": {},
   "outputs": [
    {
     "name": "stdout",
     "output_type": "stream",
     "text": [
      "banana\n",
      "['apple', 'banana', 'cherry', 'date']\n"
     ]
    }
   ],
   "source": [
    "# List methods\n",
    "# Pop method\n",
    "fruits = ['apple', 'banana', 'cherry', 'date', 'banana']\n",
    "popped_fruit = fruits.pop()\n",
    "print(popped_fruit)\n",
    "print(fruits)"
   ]
  },
  {
   "cell_type": "code",
   "execution_count": null,
   "metadata": {},
   "outputs": [
    {
     "name": "stdout",
     "output_type": "stream",
     "text": [
      "2\n"
     ]
    }
   ],
   "source": [
    "fruits = ['apple', 'banana', 'cherry', 'date', 'banana']\n",
    "fruit_index = fruits.index('cherry')\n",
    "print(fruit_index)"
   ]
  },
  {
   "cell_type": "code",
   "execution_count": null,
   "metadata": {},
   "outputs": [
    {
     "name": "stdout",
     "output_type": "stream",
     "text": [
      "1\n"
     ]
    }
   ],
   "source": [
    "fruits = ['apple', 'banana', 'cherry', 'date', 'banana']\n",
    "fruit_index = fruits.index('banana')\n",
    "print(fruit_index)\n",
    "# As you can see the index method only returns the first occurance of the item in the list\n"
   ]
  },
  {
   "cell_type": "code",
   "execution_count": null,
   "metadata": {},
   "outputs": [
    {
     "name": "stdout",
     "output_type": "stream",
     "text": [
      "[1, 4]\n"
     ]
    }
   ],
   "source": [
    "# If you want to get all the indices of a particular item in the list, you can use a for loop\n",
    "fruits = ['apple', 'banana', 'cherry', 'date', 'banana']\n",
    "fruit_index = []\n",
    "for i in range(len(fruits)):\n",
    "    if fruits[i] == 'banana':\n",
    "        fruit_index.append(i)\n",
    "print(fruit_index)"
   ]
  },
  {
   "cell_type": "code",
   "execution_count": null,
   "metadata": {},
   "outputs": [
    {
     "name": "stdout",
     "output_type": "stream",
     "text": [
      "[1, 4]\n"
     ]
    }
   ],
   "source": [
    "# Or you can use the enumerate function which returns both the index and the value of each item in\n",
    "# the list\n",
    "fruits = ['apple', 'banana', 'cherry', 'date', 'banana']\n",
    "fruit_index = []\n",
    "for i, fruit in enumerate(fruits):\n",
    "    if fruit == 'banana':\n",
    "        fruit_index.append(i)\n",
    "print(fruit_index)"
   ]
  },
  {
   "cell_type": "code",
   "execution_count": null,
   "metadata": {},
   "outputs": [
    {
     "name": "stdout",
     "output_type": "stream",
     "text": [
      "['apple', 'banana', 'cherry', 'date', 'banana']\n",
      "['apple', 'banana', 'Banana', 'cherry', 'date', 'banana']\n",
      "2\n"
     ]
    }
   ],
   "source": [
    "fruits = ['apple', 'banana', 'cherry', 'date', 'banana']\n",
    "print(fruits)\n",
    "fruits.insert(2, 'Banana')\n",
    "print(fruits)\n",
    "print(fruits.count('banana'))"
   ]
  },
  {
   "cell_type": "code",
   "execution_count": null,
   "metadata": {},
   "outputs": [
    {
     "name": "stdout",
     "output_type": "stream",
     "text": [
      "['Banana', 'apple', 'banana', 'cherry', 'date']\n"
     ]
    }
   ],
   "source": [
    "fruits = ['apple', 'banana', 'cherry', 'date', 'Banana']\n",
    "fruits.sort()\n",
    "print(fruits)"
   ]
  },
  {
   "cell_type": "code",
   "execution_count": null,
   "metadata": {},
   "outputs": [
    {
     "name": "stdout",
     "output_type": "stream",
     "text": [
      "['banana', 'date', 'cherry', 'banana', 'apple']\n"
     ]
    }
   ],
   "source": [
    "fruits = ['apple', 'banana', 'cherry', 'date', 'banana']\n",
    "fruits.reverse()\n",
    "print(fruits)"
   ]
  },
  {
   "cell_type": "code",
   "execution_count": null,
   "metadata": {},
   "outputs": [
    {
     "name": "stdout",
     "output_type": "stream",
     "text": [
      "['banana', 'date', 'cherry', 'banana', 'apple']\n",
      "[]\n"
     ]
    }
   ],
   "source": [
    "print(fruits)\n",
    "fruits.clear()\n",
    "print(fruits)"
   ]
  },
  {
   "cell_type": "code",
   "execution_count": null,
   "metadata": {},
   "outputs": [
    {
     "name": "stdout",
     "output_type": "stream",
     "text": [
      "[3, 4, 5]\n",
      "[1, 2, 3, 4, 5]\n",
      "[6, 7, 8, 9, 10]\n",
      "[1, 2, 3, 4, 5, 6, 7, 8, 9, 10]\n",
      "[1, 3, 5, 7, 9]\n",
      "[1, 4, 7, 10]\n",
      "[10, 9, 8, 7, 6, 5, 4, 3, 2, 1]\n",
      "[10, 8, 6, 4, 2]\n"
     ]
    }
   ],
   "source": [
    "# Slicing lists\n",
    "numbers = [1,2,3,4,5,6,7,8,9,10]\n",
    "print(numbers[2:5])\n",
    "print(numbers[:5])\n",
    "print(numbers[5:])\n",
    "print(numbers[:])\n",
    "print(numbers[::2])\n",
    "print(numbers[::3])\n",
    "print(numbers[::-1])\n",
    "print(numbers[::-2])\n",
    "\n",
    "\n",
    "\n",
    "      "
   ]
  },
  {
   "cell_type": "code",
   "execution_count": null,
   "metadata": {},
   "outputs": [
    {
     "name": "stdout",
     "output_type": "stream",
     "text": [
      "apple\n",
      "banana\n",
      "cherry\n",
      "date\n",
      "banana\n"
     ]
    }
   ],
   "source": [
    "## Iterating over a list\n",
    "fruits = ['apple', 'banana', 'cherry', 'date', 'banana']\n",
    "for fruit in fruits:\n",
    "    print(fruit)\n",
    "    \n",
    "# Output: apple\n",
    "# Output: banana\n",
    "# Output: cherry\n",
    "# Output: date\n",
    "# Output: banana"
   ]
  },
  {
   "cell_type": "code",
   "execution_count": null,
   "metadata": {},
   "outputs": [
    {
     "name": "stdout",
     "output_type": "stream",
     "text": [
      "0 1\n",
      "1 2\n",
      "2 3\n",
      "3 4\n",
      "4 5\n",
      "5 6\n",
      "6 7\n",
      "7 8\n",
      "8 9\n",
      "9 10\n"
     ]
    }
   ],
   "source": [
    "# Iterating with index\n",
    "numbers = [1,2,3,4,5,6,7,8,9,10]\n",
    "for index, number in enumerate(numbers):\n",
    "    print(index, number)"
   ]
  },
  {
   "cell_type": "code",
   "execution_count": null,
   "metadata": {},
   "outputs": [
    {
     "name": "stdout",
     "output_type": "stream",
     "text": [
      "['apple', 'cherry', 'date']\n",
      "['apple', 'cherry', 'date']\n"
     ]
    }
   ],
   "source": [
    "# List comprehensions\n",
    "# List comprehensions provide a concise way to create lists\n",
    "fruits = ['apple', 'banana', 'cherry', 'date', 'banana']\n",
    "new_fruits = [fruit for fruit in fruits if fruit != 'banana']\n",
    "print(new_fruits)    \n",
    "# Output: ['apple', 'cherry', 'date']\n",
    "# The list comprehension iterates over the list 'fruits', and includes each item in the new list 'new_fruits' if the item is not equal to 'banana'\n",
    "# This is equivalent to the following code:\n",
    "new_fruits = []\n",
    "for fruit in fruits:\n",
    "    if fruit != 'banana':\n",
    "        new_fruits.append(fruit)\n",
    "print(new_fruits)\n",
    "# Output: ['apple', 'cherry', 'date']\n"
   ]
  },
  {
   "cell_type": "code",
   "execution_count": null,
   "metadata": {},
   "outputs": [
    {
     "name": "stdout",
     "output_type": "stream",
     "text": [
      "[0, 1, 2, 3, 4, 5, 6, 7, 8, 9]\n"
     ]
    }
   ],
   "source": [
    "# List comprehensions\n",
    "lst = []\n",
    "\n",
    "for x in range(10):\n",
    "        lst.append(x)\n",
    "print(lst)"
   ]
  },
  {
   "cell_type": "code",
   "execution_count": null,
   "metadata": {},
   "outputs": [
    {
     "name": "stdout",
     "output_type": "stream",
     "text": [
      "[0, 1, 2, 3, 4, 5, 6, 7, 8, 9]\n"
     ]
    }
   ],
   "source": [
    "# List comprehensions\n",
    "result_list = [x for x in range(10)]    \n",
    "print(result_list)"
   ]
  },
  {
   "cell_type": "code",
   "execution_count": null,
   "metadata": {},
   "outputs": [
    {
     "name": "stdout",
     "output_type": "stream",
     "text": [
      "['apple', 'cherry', 'date']\n"
     ]
    }
   ],
   "source": [
    "# List comprehensiuons\n",
    "# Basic Syntax -> [expression for item in iterable]\n",
    "# With conditional -> [expression for item in iterable if condition] \n",
    "\n",
    "fruits = ['apple', 'banana', 'cherry', 'date', 'banana']\n",
    "new_fruits = [fruit for fruit in fruits if fruit != 'banana']\n",
    "print(new_fruits)\n",
    "# Output: ['apple', 'cherry', 'date']\n"
   ]
  },
  {
   "cell_type": "code",
   "execution_count": null,
   "metadata": {},
   "outputs": [
    {
     "name": "stdout",
     "output_type": "stream",
     "text": [
      "[(0, 0), (1, 1), (2, 4), (3, 9), (4, 16), (5, 25), (6, 36), (7, 49), (8, 64), (9, 81)]\n"
     ]
    }
   ],
   "source": [
    "# Basic List Comprehension\n",
    "\n",
    "square = [(num, num**2) for num in range(10)]\n",
    "print(square)"
   ]
  },
  {
   "cell_type": "code",
   "execution_count": null,
   "metadata": {},
   "outputs": [
    {
     "name": "stdout",
     "output_type": "stream",
     "text": [
      "[(1, 1), (2, 4), (3, 9), (4, 16), (5, 25)]\n"
     ]
    }
   ],
   "source": [
    "# Nested List comprehension\n",
    "# Basic Syntax -> [expression for item in iterable for item2 in iterable2]\n",
    "\n",
    "# Example: Create a list of tuples where each tuple contains the number and its square\n",
    "numbers = [1, 2, 3, 4, 5]\n",
    "squares = [num ** 2 for num in numbers]\n",
    "result = [(num, square) for num, square in zip(numbers, squares)]\n",
    "print(result)\n",
    "# Output: [(1, 1), (2, 4), (3, 9), (4, 16), (5, 25)]\n",
    "\n"
   ]
  },
  {
   "cell_type": "code",
   "execution_count": null,
   "metadata": {},
   "outputs": [
    {
     "name": "stdout",
     "output_type": "stream",
     "text": [
      "[(1, 'a'), (1, 'b'), (1, 'c'), (1, 'd'), (2, 'a'), (2, 'b'), (2, 'c'), (2, 'd'), (3, 'a'), (3, 'b'), (3, 'c'), (3, 'd'), (4, 'a'), (4, 'b'), (4, 'c'), (4, 'd')]\n"
     ]
    }
   ],
   "source": [
    "# Nested List comprehension\n",
    "\n",
    "lst1 = [1,2,3,4]\n",
    "lst2 = ['a','b','c','d']\n",
    "result = [(x,y) for x in lst1 for y in lst2]\n",
    "print(result) \n"
   ]
  },
  {
   "cell_type": "code",
   "execution_count": null,
   "metadata": {},
   "outputs": [
    {
     "name": "stdout",
     "output_type": "stream",
     "text": [
      "[5, 6, 6, 4, 6]\n"
     ]
    }
   ],
   "source": [
    "## List comprehension with function calls\n",
    "\n",
    "words = ['apple', 'banana', 'cherry', 'date', 'banana']\n",
    "lenghts = [len(word) for word in words]\n",
    "print(lenghts)"
   ]
  },
  {
   "cell_type": "markdown",
   "metadata": {},
   "source": [
    "# Tuples"
   ]
  },
  {
   "cell_type": "code",
   "execution_count": null,
   "metadata": {},
   "outputs": [
    {
     "name": "stdout",
     "output_type": "stream",
     "text": [
      "()\n",
      "<class 'tuple'>\n"
     ]
    }
   ],
   "source": [
    "# Creating a tuple\n",
    "empty_tuple = ()\n",
    "print(empty_tuple)\n",
    "print(type(empty_tuple))"
   ]
  },
  {
   "cell_type": "code",
   "execution_count": null,
   "metadata": {},
   "outputs": [
    {
     "name": "stdout",
     "output_type": "stream",
     "text": [
      "<class 'list'>\n"
     ]
    }
   ],
   "source": [
    "lst = list()\n",
    "print(type(lst))\n"
   ]
  },
  {
   "cell_type": "code",
   "execution_count": null,
   "metadata": {},
   "outputs": [
    {
     "name": "stdout",
     "output_type": "stream",
     "text": [
      "<class 'tuple'>\n"
     ]
    }
   ],
   "source": [
    "my_tuple = tuple((1,2,3,4,5))\n",
    "print(type(my_tuple))\n"
   ]
  },
  {
   "cell_type": "code",
   "execution_count": null,
   "metadata": {},
   "outputs": [
    {
     "name": "stdout",
     "output_type": "stream",
     "text": [
      "<class 'tuple'>\n"
     ]
    }
   ],
   "source": [
    "my_tuple = tuple([1,2,3,4,5])\n",
    "print(type(my_tuple))\n"
   ]
  },
  {
   "cell_type": "code",
   "execution_count": null,
   "metadata": {},
   "outputs": [
    {
     "name": "stdout",
     "output_type": "stream",
     "text": [
      "(1, 2, 3, 4, 5)\n",
      "<class 'tuple'>\n"
     ]
    }
   ],
   "source": [
    "my_list = list((1,2,3,4,5))\n",
    "my_tuple = tuple(my_list)\n",
    "print(my_tuple)\n",
    "print(type(my_tuple))"
   ]
  },
  {
   "cell_type": "code",
   "execution_count": null,
   "metadata": {},
   "outputs": [
    {
     "name": "stdout",
     "output_type": "stream",
     "text": [
      "(1, 'Jasper', 6.1, True)\n",
      "<class 'tuple'>\n"
     ]
    }
   ],
   "source": [
    "mixed_tuple = (1, 'Jasper', 6.1, True)\n",
    "print(mixed_tuple)\n",
    "print(type(mixed_tuple))"
   ]
  },
  {
   "cell_type": "code",
   "execution_count": null,
   "metadata": {},
   "outputs": [
    {
     "name": "stdout",
     "output_type": "stream",
     "text": [
      "1\n"
     ]
    }
   ],
   "source": [
    "numbers = (1,2,3,4,5)\n",
    "print(numbers[0])\n"
   ]
  },
  {
   "cell_type": "code",
   "execution_count": null,
   "metadata": {},
   "outputs": [
    {
     "name": "stdout",
     "output_type": "stream",
     "text": [
      "2\n"
     ]
    }
   ],
   "source": [
    "my_tuple = (1,2,3,4,5)\n",
    "print(my_tuple[1])"
   ]
  },
  {
   "cell_type": "code",
   "execution_count": null,
   "metadata": {},
   "outputs": [
    {
     "name": "stdout",
     "output_type": "stream",
     "text": [
      "(2, 3, 4)\n"
     ]
    }
   ],
   "source": [
    "my_tuple = (1,2,3,4,5)\n",
    "print(my_tuple[1:4])"
   ]
  },
  {
   "cell_type": "code",
   "execution_count": null,
   "metadata": {},
   "outputs": [
    {
     "name": "stdout",
     "output_type": "stream",
     "text": [
      "(1, 2, 3, 4, 5, 1, 'Jasper', 6.1, True)\n",
      "(1, 2, 3, 4, 5, 1, 'Jasper', 6.1, True)\n"
     ]
    }
   ],
   "source": [
    "# Tuple Operations\n",
    "\n",
    "numbers = (1,2,3,4,5)\n",
    "mixed_tuple = (1, 'Jasper', 6.1, True)\n",
    "print(numbers + mixed_tuple)\n",
    "concatenate_tuple = numbers + mixed_tuple\n",
    "print(concatenate_tuple)"
   ]
  },
  {
   "cell_type": "code",
   "execution_count": null,
   "metadata": {},
   "outputs": [
    {
     "name": "stdout",
     "output_type": "stream",
     "text": [
      "(1, 2, 3, 4, 5, 1, 2, 3, 4, 5, 1, 2, 3, 4, 5)\n"
     ]
    }
   ],
   "source": [
    "numbers = (1,2,3,4,5)\n",
    "print(numbers * 3)\n",
    "\n"
   ]
  },
  {
   "cell_type": "code",
   "execution_count": null,
   "metadata": {},
   "outputs": [
    {
     "ename": "TypeError",
     "evalue": "'tuple' object does not support item assignment",
     "output_type": "error",
     "traceback": [
      "\u001b[0;31m---------------------------------------------------------------------------\u001b[0m",
      "\u001b[0;31mTypeError\u001b[0m                                 Traceback (most recent call last)",
      "Cell \u001b[0;32mIn[172], line 4\u001b[0m\n\u001b[1;32m      1\u001b[0m \u001b[38;5;66;03m# Immutability of tuples\u001b[39;00m\n\u001b[1;32m      3\u001b[0m numbers \u001b[38;5;241m=\u001b[39m (\u001b[38;5;241m1\u001b[39m,\u001b[38;5;241m2\u001b[39m,\u001b[38;5;241m3\u001b[39m,\u001b[38;5;241m4\u001b[39m,\u001b[38;5;241m5\u001b[39m)\n\u001b[0;32m----> 4\u001b[0m \u001b[43mnumbers\u001b[49m\u001b[43m[\u001b[49m\u001b[38;5;241;43m0\u001b[39;49m\u001b[43m]\u001b[49m \u001b[38;5;241m=\u001b[39m \u001b[38;5;241m10\u001b[39m\n\u001b[1;32m      5\u001b[0m \u001b[38;5;28mprint\u001b[39m(numbers)\n\u001b[1;32m      6\u001b[0m \u001b[38;5;66;03m# Output: TypeError: 'tuple' object does not support item assignment\u001b[39;00m\n\u001b[1;32m      7\u001b[0m \u001b[38;5;66;03m# Tuples are immutable, which means that the values of the tuple cannot be changed once it is created\u001b[39;00m\n\u001b[1;32m      8\u001b[0m \u001b[38;5;66;03m# If you try to change a value in a tuple, you will get a TypeError\u001b[39;00m\n",
      "\u001b[0;31mTypeError\u001b[0m: 'tuple' object does not support item assignment"
     ]
    }
   ],
   "source": [
    "# Immutability of tuples\n",
    "\n",
    "numbers = (1,2,3,4,5)\n",
    "numbers[0] = 10\n",
    "print(numbers)\n",
    "# Output: TypeError: 'tuple' object does not support item assignment\n",
    "# Tuples are immutable, which means that the values of the tuple cannot be changed once it is created\n",
    "# If you try to change a value in a tuple, you will get a TypeError\n"
   ]
  },
  {
   "cell_type": "code",
   "execution_count": null,
   "metadata": {},
   "outputs": [
    {
     "name": "stdout",
     "output_type": "stream",
     "text": [
      "2\n"
     ]
    }
   ],
   "source": [
    "# Count function with Tuples\n",
    "\n",
    "numbers = (1,2,3,4,5,1,2,3,4,5)\n",
    "print(numbers.count(1))\n",
    "# Output: 2"
   ]
  },
  {
   "cell_type": "code",
   "execution_count": null,
   "metadata": {},
   "outputs": [
    {
     "name": "stdout",
     "output_type": "stream",
     "text": [
      "2\n"
     ]
    }
   ],
   "source": [
    "# Index function\n",
    "\n",
    "numbers = (1,2,3,4,5,1,2,3,4,5)\n",
    "print(numbers.index(3))"
   ]
  },
  {
   "cell_type": "code",
   "execution_count": null,
   "metadata": {},
   "outputs": [
    {
     "name": "stdout",
     "output_type": "stream",
     "text": [
      "(1, 'Hello', 3.14, True)\n",
      "<class 'tuple'>\n",
      "1\n",
      "Hello\n",
      "3.14\n",
      "True\n",
      "<class 'int'>\n",
      "<class 'str'>\n",
      "<class 'float'>\n",
      "<class 'bool'>\n",
      "<class 'tuple'>\n"
     ]
    }
   ],
   "source": [
    "# Packing and unpacking oa a tuple\n",
    "\n",
    "packed_tuple = 1, 'Hello', 3.14, True\n",
    "print(packed_tuple)\n",
    "print(type(packed_tuple))\n",
    "\n",
    "num, string, pi, boolean = packed_tuple\n",
    "print(num)\n",
    "print(string)\n",
    "print(pi)\n",
    "print(boolean)\n",
    "print(type(num))\n",
    "print(type(string))\n",
    "print(type(pi))\n",
    "print(type(boolean))\n",
    "print(type(packed_tuple))"
   ]
  },
  {
   "cell_type": "code",
   "execution_count": null,
   "metadata": {},
   "outputs": [
    {
     "name": "stdout",
     "output_type": "stream",
     "text": [
      "1\n",
      "[2, 3, 4]\n",
      "5\n"
     ]
    }
   ],
   "source": [
    "# Unpacking of a tuple with * operator\n",
    "\n",
    "numbers = (1,2,3,4,5)\n",
    "first,*middle,last = numbers\n",
    "print(first)\n",
    "print(middle)\n",
    "print(last)\n",
    "# Output: 1 [2, 3, 4] 5\n",
    "# The * operator unpacks the tuple into a list and assigns it to the middle variable. The\n",
    "# first variable is assigned the first element of the tuple, and the last variable is assigned\n",
    "# the last element of the tuple\n",
    "# The * operator can be used to unpack any iterable, not just tuples. It can be used\n",
    "# to unpack lists, sets, and dictionaries as well\n",
    "# The * operator can be used to unpack a variable number of arguments in a function\n",
    "# definition. This is known as variable length argument list or varargs\n",
    "\n",
    "\n"
   ]
  },
  {
   "cell_type": "code",
   "execution_count": null,
   "metadata": {},
   "outputs": [
    {
     "name": "stdout",
     "output_type": "stream",
     "text": [
      "[1, 2, 3]\n",
      "[4, 5, 6]\n",
      "[7, 8, 9]\n",
      "1\n",
      "5\n",
      "9\n"
     ]
    }
   ],
   "source": [
    "# Slicing a Nested List\n",
    "my_list = [[1,2,3], [4,5,6], [7,8,9]]\n",
    "print(my_list[0])\n",
    "print(my_list[1])\n",
    "print(my_list[2])\n",
    "print(my_list[0][0])\n",
    "print(my_list[1][1])\n",
    "print(my_list[2][2])\n",
    "# Output:\n",
    "# [1, 2, 3]\n",
    "# [4, 5, 6]\n",
    "# [7, 8, 9]\n",
    "# 1\n",
    "# 5\n",
    "# 9"
   ]
  },
  {
   "cell_type": "code",
   "execution_count": null,
   "metadata": {},
   "outputs": [
    {
     "name": "stdout",
     "output_type": "stream",
     "text": [
      "(1, 2, 3)\n",
      "(4, 5, 6)\n",
      "(7, 8, 9)\n",
      "1\n",
      "5\n",
      "9\n"
     ]
    }
   ],
   "source": [
    "# Slicing a Nested List\n",
    "my_tuple = (1,2,3), (4,5,6), (7,8,9)\n",
    "print(my_tuple[0])\n",
    "print(my_tuple[1])\n",
    "print(my_tuple[2])\n",
    "print(my_tuple[0][0])\n",
    "print(my_tuple[1][1])\n",
    "print(my_tuple[2][2])\n",
    "# Output:\n",
    "# (1, 2, 3)\n",
    "# (4, 5, 6)\n",
    "# (7, 8, 9)\n",
    "# 1\n",
    "# 5\n",
    "# 9\n",
    "\n"
   ]
  },
  {
   "cell_type": "code",
   "execution_count": null,
   "metadata": {},
   "outputs": [
    {
     "name": "stdout",
     "output_type": "stream",
     "text": [
      "1 2 3 \n",
      "4 5 6 \n",
      "7 8 9 \n"
     ]
    }
   ],
   "source": [
    "# Iterating over Nested Tuples\n",
    "\n",
    "for sub_tuple in my_tuple:\n",
    "    for item in sub_tuple:\n",
    "        print(item, end=' ')\n",
    "    print()\n"
   ]
  },
  {
   "cell_type": "markdown",
   "metadata": {},
   "source": [
    "# Dictionaries in Python"
   ]
  },
  {
   "cell_type": "code",
   "execution_count": null,
   "metadata": {},
   "outputs": [],
   "source": [
    "# Dictionaries are unordered, mutable and indexed collections of key-value pairs\n",
    "# Dictionaries are created with curly brackets {}and key-value pairs are separated by commas\n",
    "# Dictionaries can contain different data types as keys and values\n",
    "# Dictionaries can be nested\n",
    "# Dictionaries are mutable, which means that the values of the dictionary can be changed once it is created\n",
    "# Dictionaries are indexed by keys, not by positions\n",
    "# Dictionaries do not allow duplicate keys\n",
    "# Dictionaries are case sensitive\n",
    "# Dictionaries can be used to implement a hash table\n",
    "# Dictionaries can be used to implement a set\n",
    "# Dictionaries can be used to implement a map\n",
    "# Dictionaries can be used to implement a database table"
   ]
  },
  {
   "cell_type": "code",
   "execution_count": null,
   "metadata": {},
   "outputs": [
    {
     "name": "stdout",
     "output_type": "stream",
     "text": [
      "{}\n",
      "<class 'dict'>\n"
     ]
    }
   ],
   "source": [
    "# Creating a Dictionary\n",
    "\n",
    "empty_dict = {}\n",
    "print(empty_dict)\n",
    "print(type(empty_dict))"
   ]
  },
  {
   "cell_type": "code",
   "execution_count": null,
   "metadata": {},
   "outputs": [
    {
     "name": "stdout",
     "output_type": "stream",
     "text": [
      "{'name': 'Jasper', 'age': 32, 'height': 6.1}\n"
     ]
    }
   ],
   "source": [
    "# Creating a dictionary with key-value pairs\n",
    "student = {'name': 'Jasper', 'age': 32, 'height': 6.1}\n",
    "print(student)"
   ]
  },
  {
   "cell_type": "code",
   "execution_count": null,
   "metadata": {},
   "outputs": [
    {
     "name": "stdout",
     "output_type": "stream",
     "text": [
      "Jasper\n",
      "32\n",
      "6.1\n",
      "A\n"
     ]
    }
   ],
   "source": [
    "# Accessing dictionary elements\n",
    "student = {'name': 'Jasper', 'age': 32, 'height': 6.1, 'grade':'A'}\n",
    "print(student['name'])\n",
    "print(student['age'])\n",
    "print(student['height'])\n",
    "print(student['grade'])\n"
   ]
  },
  {
   "cell_type": "code",
   "execution_count": null,
   "metadata": {},
   "outputs": [
    {
     "name": "stdout",
     "output_type": "stream",
     "text": [
      "A\n",
      "None\n",
      "Not Available\n"
     ]
    }
   ],
   "source": [
    "# Accessing dictionary elements \n",
    "# Get method\n",
    "\n",
    "student = {'name': 'Jasper', 'age': 32, 'height': 6.1, 'grade':'A'}\n",
    "print(student.get('grade'))\n",
    "print(student.get('lastname'))\n",
    "print(student.get('lastname','Not Available'))\n",
    "\n",
    "\n",
    "\n"
   ]
  },
  {
   "cell_type": "code",
   "execution_count": null,
   "metadata": {},
   "outputs": [
    {
     "name": "stdout",
     "output_type": "stream",
     "text": [
      "{'name': 'Jasper', 'age': 32, 'height': 6.1, 'grade': 'A'}\n",
      "{'name': 'Bongers', 'age': 32, 'height': 6.1, 'grade': 'A'}\n",
      "{'name': 'Bongers', 'age': 32, 'height': 6.1, 'grade': 'B'}\n"
     ]
    }
   ],
   "source": [
    "# Modifying Dictionary elements\n",
    "# Dictionaries are mutuable\n",
    "# You can change the value of a key in a dictionary by assigning a new value to it\n",
    "student = {'name': 'Jasper', 'age': 32, 'height': 6.1, 'grade':'A'}\n",
    "print(student)\n",
    "student['name'] = 'Bongers'\n",
    "print(student)\n",
    "student['grade'] = 'B'\n",
    "print(student)"
   ]
  },
  {
   "cell_type": "code",
   "execution_count": null,
   "metadata": {},
   "outputs": [
    {
     "name": "stdout",
     "output_type": "stream",
     "text": [
      "{'name': 'Jasper', 'age': 32, 'height': 6.1, 'grade': 'A', 'Address': 'Kuala Lumpur'}\n"
     ]
    }
   ],
   "source": [
    "student = {'name': 'Jasper', 'age': 32, 'height': 6.1, 'grade':'A'}\n",
    "student['Address'] = 'Kuala Lumpur'\n",
    "print(student)"
   ]
  },
  {
   "cell_type": "code",
   "execution_count": null,
   "metadata": {},
   "outputs": [],
   "source": [
    "del student['height']"
   ]
  },
  {
   "cell_type": "code",
   "execution_count": null,
   "metadata": {},
   "outputs": [
    {
     "name": "stdout",
     "output_type": "stream",
     "text": [
      "{'name': 'Jasper', 'age': 32, 'grade': 'A', 'Address': 'Kuala Lumpur'}\n"
     ]
    }
   ],
   "source": [
    "print(student)"
   ]
  },
  {
   "cell_type": "code",
   "execution_count": null,
   "metadata": {},
   "outputs": [
    {
     "name": "stdout",
     "output_type": "stream",
     "text": [
      "dict_keys(['name', 'age', 'grade', 'Address'])\n",
      "dict_values(['Jasper', 32, 'A', 'Kuala Lumpur'])\n"
     ]
    }
   ],
   "source": [
    "keys = student.keys()\n",
    "print(keys)\n",
    "values = student.values()\n",
    "print(values)"
   ]
  },
  {
   "cell_type": "code",
   "execution_count": null,
   "metadata": {},
   "outputs": [
    {
     "name": "stdout",
     "output_type": "stream",
     "text": [
      "name : Jasper\n",
      "age : 32\n",
      "grade : A\n",
      "Address : Kuala Lumpur\n"
     ]
    }
   ],
   "source": [
    "items = student.items() ## get all key-value pairs\n",
    "for key, value in items:\n",
    "    print(key, ':', value)"
   ]
  },
  {
   "cell_type": "code",
   "execution_count": null,
   "metadata": {},
   "outputs": [
    {
     "name": "stdout",
     "output_type": "stream",
     "text": [
      "10\n",
      "10\n",
      "4350496152\n",
      "4350496152\n",
      "20\n",
      "10\n",
      "4350496472\n",
      "4350496152\n"
     ]
    }
   ],
   "source": [
    "# Shallow copy\n",
    "\n",
    "a = 10\n",
    "b = a\n",
    "print(a)\n",
    "print(b)\n",
    "print(id(a))\n",
    "print(id(b))\n",
    "a = 20\n",
    "print(a)\n",
    "print(b)\n",
    "print(id(a))\n",
    "print(id(b))"
   ]
  },
  {
   "cell_type": "code",
   "execution_count": null,
   "metadata": {},
   "outputs": [
    {
     "name": "stdout",
     "output_type": "stream",
     "text": [
      "{'name': 'Jasper', 'age': 32, 'height': 6.1, 'grade': 'A'}\n",
      "{'name': 'Jasper', 'age': 32, 'height': 6.1, 'grade': 'A'}\n",
      "Bongers\n",
      "Bongers\n"
     ]
    }
   ],
   "source": [
    "student = {'name': 'Jasper', 'age': 32, 'height': 6.1, 'grade':'A'}\n",
    "student_copy = student\n",
    "print(student)\n",
    "print(student_copy)\n",
    "student['name'] = 'Bongers'\n",
    "print(student['name'])\n",
    "print(student_copy['name'])"
   ]
  },
  {
   "cell_type": "code",
   "execution_count": null,
   "metadata": {},
   "outputs": [
    {
     "name": "stdout",
     "output_type": "stream",
     "text": [
      "{'name': 'Jasper', 'age': 32, 'height': 6.1, 'grade': 'A'}\n",
      "{'name': 'Jasper', 'age': 32, 'height': 6.1, 'grade': 'A'}\n",
      "Bongers\n",
      "Jasper\n"
     ]
    }
   ],
   "source": [
    "student = {'name': 'Jasper', 'age': 32, 'height': 6.1, 'grade':'A'}\n",
    "student_copy = student.copy()\n",
    "print(student)\n",
    "print(student_copy)\n",
    "student['name'] = 'Bongers'\n",
    "print(student['name'])\n",
    "print(student_copy['name'])"
   ]
  },
  {
   "cell_type": "code",
   "execution_count": null,
   "metadata": {},
   "outputs": [
    {
     "name": "stdout",
     "output_type": "stream",
     "text": [
      "name\n",
      "age\n",
      "height\n",
      "grade\n"
     ]
    }
   ],
   "source": [
    "# Iterating over dictionaries\n",
    "\n",
    "student = {'name': 'Jasper', 'age': 32, 'height': 6.1, 'grade':'A'}\n",
    "for key in student.keys():\n",
    "    print(key)"
   ]
  },
  {
   "cell_type": "code",
   "execution_count": null,
   "metadata": {},
   "outputs": [
    {
     "name": "stdout",
     "output_type": "stream",
     "text": [
      "name Jasper\n",
      "age 32\n",
      "height 6.1\n",
      "grade A\n"
     ]
    }
   ],
   "source": [
    "# Iterating over dictionaries\n",
    "\n",
    "student = {'name': 'Jasper', 'age': 32, 'height': 6.1, 'grade':'A'}\n",
    "for key in student.keys():\n",
    "    print(key, student[key])"
   ]
  },
  {
   "cell_type": "code",
   "execution_count": 211,
   "metadata": {},
   "outputs": [
    {
     "name": "stdout",
     "output_type": "stream",
     "text": [
      "Jasper\n",
      "32\n",
      "6.1\n",
      "A\n"
     ]
    }
   ],
   "source": [
    "student = {'name': 'Jasper', 'age': 32, 'height': 6.1, 'grade':'A'}\n",
    "for value in student.values():\n",
    "    print(value)"
   ]
  },
  {
   "cell_type": "code",
   "execution_count": 213,
   "metadata": {},
   "outputs": [
    {
     "name": "stdout",
     "output_type": "stream",
     "text": [
      "Key: name, Value: Jasper\n",
      "Key: age, Value: 32\n",
      "Key: height, Value: 6.1\n",
      "Key: grade, Value: A\n"
     ]
    }
   ],
   "source": [
    "student = {'name': 'Jasper', 'age': 32, 'height': 6.1, 'grade':'A'}\n",
    "for key, value in student.items():\n",
    "    print(f\"Key: {key}, Value: {value}\")\n",
    "          "
   ]
  },
  {
   "cell_type": "code",
   "execution_count": 231,
   "metadata": {},
   "outputs": [
    {
     "name": "stdout",
     "output_type": "stream",
     "text": [
      "{'name': 'Jasper', 'age': 32, 'height': 6.1, 'grade': 'A'}\n",
      "Jasper\n"
     ]
    }
   ],
   "source": [
    "# Nested Dictionaries\n",
    "\n",
    "students = {\n",
    "    'student1': {'name': 'Jasper', 'age': 32, 'height': 6.1, 'grade':'A'},\n",
    "    'student2': {'name': 'Candice', 'age': 28, 'height': 6.1, 'grade':'B'},\n",
    "    'student3': {'name': 'Valentijn', 'age': 18, 'height': 6.1, 'grade':'A'},\n",
    "    'student4': {'name': 'Benjamin', 'age': 17, 'height': 6.1, 'grade':'A'},\n",
    "    'student5': {'name': 'Isabelle', 'age': 14, 'height': 6.1, 'grade':'A'}\n",
    "}\n",
    "\n",
    "print(students['student1'])\n",
    "print(students['student1']['name'])"
   ]
  },
  {
   "cell_type": "code",
   "execution_count": 232,
   "metadata": {},
   "outputs": [
    {
     "name": "stdout",
     "output_type": "stream",
     "text": [
      "Jasper\n",
      "32\n",
      "6.1\n",
      "A\n",
      "\n",
      "Candice\n",
      "28\n",
      "6.1\n",
      "B\n",
      "\n",
      "Valentijn\n",
      "18\n",
      "6.1\n",
      "A\n",
      "\n",
      "Benjamin\n",
      "17\n",
      "6.1\n",
      "A\n",
      "\n",
      "Isabelle\n",
      "14\n",
      "6.1\n",
      "A\n",
      "\n"
     ]
    }
   ],
   "source": [
    "# Acess Nested Dictionaries\n",
    "\n",
    "students = {\n",
    "    'student1': {'name': 'Jasper', 'age': 32, 'height': 6.1, 'grade':'A'},\n",
    "    'student2': {'name': 'Candice', 'age': 28, 'height': 6.1, 'grade':'B'},\n",
    "    'student3': {'name': 'Valentijn', 'age': 18, 'height': 6.1, 'grade':'A'},\n",
    "    'student4': {'name': 'Benjamin', 'age': 17, 'height': 6.1, 'grade':'A'},\n",
    "    'student5': {'name': 'Isabelle', 'age': 14, 'height': 6.1, 'grade':'A'}\n",
    "}\n",
    "\n",
    "for student in students:\n",
    "    print(students[student]['name'])\n",
    "    print(students[student]['age'])\n",
    "    print(students[student]['height'])\n",
    "    print(students[student]['grade'])\n",
    "    print() "
   ]
  },
  {
   "cell_type": "code",
   "execution_count": 239,
   "metadata": {},
   "outputs": [
    {
     "name": "stdout",
     "output_type": "stream",
     "text": [
      "Jasper\n",
      "Candice\n",
      "28\n"
     ]
    }
   ],
   "source": [
    "print(students['student1']['name'])\n",
    "print(students['student2']['name'])\n",
    "print(students['student2']['age'])\n",
    "\n"
   ]
  },
  {
   "cell_type": "code",
   "execution_count": 240,
   "metadata": {},
   "outputs": [
    {
     "name": "stdout",
     "output_type": "stream",
     "text": [
      "Student_id: student1, Student_info: {'name': 'Jasper', 'age': 32, 'height': 6.1, 'grade': 'A'}\n",
      "Key: name, Value Jasper\n",
      "Key: age, Value 32\n",
      "Key: height, Value 6.1\n",
      "Key: grade, Value A\n",
      "\n",
      "Student_id: student2, Student_info: {'name': 'Candice', 'age': 28, 'height': 6.1, 'grade': 'B'}\n",
      "Key: name, Value Candice\n",
      "Key: age, Value 28\n",
      "Key: height, Value 6.1\n",
      "Key: grade, Value B\n",
      "\n",
      "Student_id: student3, Student_info: {'name': 'Valentijn', 'age': 18, 'height': 6.1, 'grade': 'A'}\n",
      "Key: name, Value Valentijn\n",
      "Key: age, Value 18\n",
      "Key: height, Value 6.1\n",
      "Key: grade, Value A\n",
      "\n",
      "Student_id: student4, Student_info: {'name': 'Benjamin', 'age': 17, 'height': 6.1, 'grade': 'A'}\n",
      "Key: name, Value Benjamin\n",
      "Key: age, Value 17\n",
      "Key: height, Value 6.1\n",
      "Key: grade, Value A\n",
      "\n",
      "Student_id: student5, Student_info: {'name': 'Isabelle', 'age': 14, 'height': 6.1, 'grade': 'A'}\n",
      "Key: name, Value Isabelle\n",
      "Key: age, Value 14\n",
      "Key: height, Value 6.1\n",
      "Key: grade, Value A\n",
      "\n"
     ]
    }
   ],
   "source": [
    "# Iterate over Nested Dictionaries\n",
    "\n",
    "for student_id, student_info in students.items():\n",
    "    print(f\"Student_id: {student_id}, Student_info: {student_info}\")\n",
    "    for key, value in student_info.items():\n",
    "        print(f\"Key: {key}, Value {value}\")\n",
    "    print()"
   ]
  },
  {
   "cell_type": "code",
   "execution_count": 241,
   "metadata": {},
   "outputs": [
    {
     "name": "stdout",
     "output_type": "stream",
     "text": [
      "{0: 0, 1: 1, 2: 4, 3: 9, 4: 16, 5: 25, 6: 36, 7: 49, 8: 64, 9: 81}\n"
     ]
    }
   ],
   "source": [
    "# Dictionary conprehension\n",
    "\n",
    "squares = {num: num**2 for num in range(10)}\n",
    "print(squares)"
   ]
  },
  {
   "cell_type": "code",
   "execution_count": 242,
   "metadata": {},
   "outputs": [
    {
     "name": "stdout",
     "output_type": "stream",
     "text": [
      "{0: 0, 2: 4, 4: 16, 6: 36, 8: 64}\n"
     ]
    }
   ],
   "source": [
    "# Dictionary conprehension\n",
    "\n",
    "squares = {num: num**2 for num in range(10) if num%2==0}\n",
    "print(squares)"
   ]
  },
  {
   "cell_type": "code",
   "execution_count": 248,
   "metadata": {},
   "outputs": [
    {
     "data": {
      "text/plain": [
       "{1: 3, 2: 3, 3: 3, 4: 3, 5: 3}"
      ]
     },
     "execution_count": 248,
     "metadata": {},
     "output_type": "execute_result"
    }
   ],
   "source": [
    "## Practical Example\n",
    "# Use a dictionary to count the frequency of elements in a list\n",
    "# Define a function that takes a list as input\n",
    "def count_frequency(lst):\n",
    "    # Create an empty dictionary to store the frequency of each element\n",
    "    freq = {}\n",
    "    # Iterate over the list and count the frequency of each element\n",
    "    for item in lst:\n",
    "        if item in freq:\n",
    "            freq[item] += 1\n",
    "        else:\n",
    "            freq[item] = 1\n",
    "    # Return the frequency dictionary\n",
    "    return freq\n",
    "\n",
    "my_list = [1,2,3,4,5,1,2,3,4,5,1,2,3,4,5]\n",
    "count_frequency(my_list)\n"
   ]
  },
  {
   "cell_type": "code",
   "execution_count": 246,
   "metadata": {},
   "outputs": [
    {
     "name": "stdout",
     "output_type": "stream",
     "text": [
      "{1: 3, 2: 3, 3: 3, 4: 3, 5: 3}\n"
     ]
    }
   ],
   "source": [
    "# Practical Example\n",
    "# Use a dictionary to count the frequency of elements in a list\n",
    "# Define a function that takes a list as input\n",
    "\n",
    "my_list = [1,2,3,4,5,1,2,3,4,5,1,2,3,4,5]\n",
    "my_dict = {}\n",
    "\n",
    "for element in my_list:\n",
    "    if element in my_dict:\n",
    "        my_dict[element] += 1\n",
    "    else:\n",
    "        my_dict[element] = 1\n",
    "print(my_dict)\n",
    "    "
   ]
  },
  {
   "cell_type": "code",
   "execution_count": 249,
   "metadata": {},
   "outputs": [
    {
     "name": "stdout",
     "output_type": "stream",
     "text": [
      "{'a': 1, 'b': 2, 'c': 3, 'd': 4}\n"
     ]
    }
   ],
   "source": [
    "# Merge two dictionaries into one\n",
    "\n",
    "dict1 = {'a': 1, 'b': 2}\n",
    "dict2 = {'c': 3, 'd': 4}\n",
    "dict3 = {**dict1, **dict2}\n",
    "print(dict3)"
   ]
  },
  {
   "cell_type": "markdown",
   "metadata": {},
   "source": [
    "# Real world used cases"
   ]
  },
  {
   "cell_type": "markdown",
   "metadata": {},
   "source": [
    "## To Do list"
   ]
  },
  {
   "cell_type": "code",
   "execution_count": 251,
   "metadata": {},
   "outputs": [
    {
     "name": "stdout",
     "output_type": "stream",
     "text": [
      "Don't forget to pay the bills\n",
      "To do list remaining\n",
      "- Buy groceries\n",
      "- Pay bills\n",
      "- Schedule a meeting\n",
      "- Go to the gym\n"
     ]
    }
   ],
   "source": [
    "to_do_list = ['Buy groceries', 'Clean the house', 'Pay bills']\n",
    "\n",
    "# Adding a task\n",
    "to_do_list.append('Schedule a meeting')\n",
    "to_do_list.append('Go to the gym')\n",
    "\n",
    "# Removing items from the list\n",
    "to_do_list.remove('Clean the house')\n",
    "\n",
    "## Checking if a task is in the list\n",
    "if \"Pay bills\" in to_do_list:\n",
    "    print(\"Don't forget to pay the bills\")\n",
    "\n",
    "print(\"To do list remaining\")\n",
    "for task in to_do_list:\n",
    "    print(f\"- {task}\")"
   ]
  },
  {
   "cell_type": "markdown",
   "metadata": {},
   "source": [
    "# Organizing student grades"
   ]
  },
  {
   "cell_type": "code",
   "execution_count": 255,
   "metadata": {},
   "outputs": [],
   "source": [
    "# If you have accidentally overwritten the built-in sum function\n",
    "sum = 10\n",
    "\n",
    "# Delete the variable sum to restore the built-in function\n",
    "del sum"
   ]
  },
  {
   "cell_type": "code",
   "execution_count": 256,
   "metadata": {},
   "outputs": [
    {
     "name": "stdout",
     "output_type": "stream",
     "text": [
      "Average grade is: 88.27272727272727\n",
      "Highest grade is: 97\n",
      "Lowest grade is: 78\n"
     ]
    }
   ],
   "source": [
    "# Organizing student grades\n",
    "\n",
    "student_grades = [89, 92, 78, 85, 97, 80, 85, 90, 92, 88]\n",
    "\n",
    "# Adding a new grade\n",
    "student_grades.append(95)\n",
    "\n",
    "# Calculating the average grade\n",
    "average_grade = sum(student_grades) / len(student_grades)\n",
    "print(f\"Average grade is: {average_grade}\")\n",
    "\n",
    "# Finding the highest and lowest grade\n",
    "highest_grade = max(student_grades)\n",
    "lowest_grade = min(student_grades)\n",
    "print(f\"Highest grade is: {highest_grade}\")\n",
    "print(f\"Lowest grade is: {lowest_grade}\")"
   ]
  },
  {
   "cell_type": "markdown",
   "metadata": {},
   "source": [
    "## Managing an inventory"
   ]
  },
  {
   "cell_type": "code",
   "execution_count": 257,
   "metadata": {},
   "outputs": [
    {
     "name": "stdout",
     "output_type": "stream",
     "text": [
      "cherry is in the inventory\n",
      "Inventory list:\n",
      "- apple\n",
      "- cherry\n",
      "- date\n",
      "- banana\n",
      "- orange\n"
     ]
    }
   ],
   "source": [
    "# Managing an inventory\n",
    "inventory = ['apple', 'banana', 'cherry', 'date', 'banana']\n",
    "\n",
    "# Adding a new item\n",
    "inventory.append('orange')\n",
    "\n",
    "# Removing an item\n",
    "inventory.remove('banana')\n",
    "\n",
    "# Checking if an item is in the inventory\n",
    "item = 'cherry'\n",
    "if item in inventory:\n",
    "    print(f\"{item} is in the inventory\")\n",
    "else:\n",
    "    print(f\"{item} is not in the inventory\")\n",
    "\n",
    "# Printing the inventory\n",
    "print(\"Inventory list:\")\n",
    "for item in inventory:\n",
    "    print(f\"- {item}\")\n",
    "\n"
   ]
  },
  {
   "cell_type": "markdown",
   "metadata": {},
   "source": [
    "## Collecting user feedback"
   ]
  },
  {
   "cell_type": "code",
   "execution_count": 260,
   "metadata": {},
   "outputs": [
    {
     "name": "stdout",
     "output_type": "stream",
     "text": [
      "Positive feedback count: 2\n",
      "User feedback:\n",
      "- great service\n",
      "- poor quality\n",
      "- excellent product\n",
      "- slow delivery\n",
      "- fast shipping\n"
     ]
    }
   ],
   "source": [
    "# Collecting Usder feedback\n",
    "feedback = ['great service', 'poor quality', 'excellent product', 'slow delivery']\n",
    "\n",
    "# Adding a new feedback\n",
    "feedback.append('fast shipping')\n",
    "\n",
    "# Counting specific feedback\n",
    "positive_feedback_count = sum(1 for comment in feedback if \"great\" in comment.lower() or \"excellent\" in comment.lower())\n",
    "print(f\"Positive feedback count: {positive_feedback_count}\")\n",
    "\n",
    "# Printing all the feedback\n",
    "print(\"User feedback:\")\n",
    "for comment in feedback:\n",
    "    print(f\"- {comment}\")# Removed the unnecessary variable assignment\n"
   ]
  },
  {
   "cell_type": "markdown",
   "metadata": {},
   "source": [
    "# Getting started with Functions "
   ]
  },
  {
   "cell_type": "code",
   "execution_count": 269,
   "metadata": {},
   "outputs": [
    {
     "name": "stdout",
     "output_type": "stream",
     "text": [
      "The temperature in F is -1.11\n"
     ]
    }
   ],
   "source": [
    "# Example function for temperature conversion\n",
    "\n",
    "def convert_temperature(temp, unit):\n",
    "    if unit == \"C\":\n",
    "        contra_unit = 'F'\n",
    "        converted_temp = (temp - 32) * 5/9\n",
    "    elif unit == \"F\":\n",
    "        contra_unit = 'C'\n",
    "        converted_temp = (temp * 9/5) + 32\n",
    "    else:\n",
    "        return \"Invalid unit\", None\n",
    "    return converted_temp, contra_unit\n",
    "\n",
    "temp = float(input(\"Enter the temperature: \"))\n",
    "unit = input(\"Enter the unit (C for Celsius or F for Fahrenheit): \")\n",
    "\n",
    "result, contra_unit = convert_temperature(temp, unit)\n",
    "if contra_unit:\n",
    "    print(f\"The temperature in {contra_unit} is {result:.2f}\")\n",
    "else:\n",
    "    print(result)"
   ]
  },
  {
   "cell_type": "code",
   "execution_count": 275,
   "metadata": {},
   "outputs": [
    {
     "name": "stdout",
     "output_type": "stream",
     "text": [
      "Password is strong:\n"
     ]
    }
   ],
   "source": [
    "# Example function for check password strenth \n",
    "\n",
    "def is_strong_password(password):\n",
    "    \"\"\" This function checks if the password is strong or not\"\"\"\n",
    "    if len(password) < 8:\n",
    "        return False\n",
    "    if not any(char.isdigit() for char in password):\n",
    "        return False\n",
    "    if not any(char.isalpha() for char in password):\n",
    "        return False\n",
    "    if not any(char in '!@#%$*&^' for char in password):\n",
    "        return False\n",
    "    if not any(char.islower() for char in password):\n",
    "        return False\n",
    "    if not any(char.isupper() for char in password):\n",
    "        return False\n",
    "    return True\n",
    "\n",
    "input_password = input(\"Please enter your password: \")\n",
    "if is_strong_password(input_password):\n",
    "    print(\"Password is strong:\")\n",
    "else: \n",
    "    print(\"Password is weak\")\n",
    "\n",
    "    \n",
    "    "
   ]
  },
  {
   "cell_type": "code",
   "execution_count": 285,
   "metadata": {},
   "outputs": [
    {
     "name": "stdout",
     "output_type": "stream",
     "text": [
      "7.46\n"
     ]
    }
   ],
   "source": [
    "# Function to calculate the total costs of items in a Shopping Cart\n",
    "\n",
    "def calculate_total_cost(cart):\n",
    "    total_cost = 0\n",
    "    for item in cart.items():\n",
    "        total_cost += float(item[1])\n",
    "    return total_cost\n",
    "\n",
    "cart = {'apple': 1.99, 'banana': 0.99, 'cherry': 2.99, 'date': 1.49}\n",
    "\n",
    "print(\"{:.2f}\".format(calculate_total_cost(cart)))"
   ]
  },
  {
   "cell_type": "code",
   "execution_count": 301,
   "metadata": {},
   "outputs": [
    {
     "name": "stdout",
     "output_type": "stream",
     "text": [
      "50.80\n"
     ]
    }
   ],
   "source": [
    "# Function to calculate the total costs of items in a Shopping Cart\n",
    "\n",
    "def calculate_total_cost(cart):\n",
    "    total_cost = 0\n",
    "    for product in cart:\n",
    "        item_costs = float(product['price']) * float(product['quantity'])\n",
    "        total_cost += item_costs\n",
    "    return total_cost\n",
    "\n",
    "cart = [{'name':'Apple', 'price': 1.99, 'quantity': 5},\n",
    "        {'name':'Banana', 'price': 1.99, 'quantity': 10},\n",
    "        {'name':'Pear', 'price': 2.99, 'quantity': 2},\n",
    "        {'name':'Mango', 'price': 4.99, 'quantity': 3}]\n",
    "\n",
    "print(\"{:.2f}\".format(calculate_total_cost(cart)))\n"
   ]
  },
  {
   "cell_type": "code",
   "execution_count": 306,
   "metadata": {},
   "outputs": [
    {
     "name": "stdout",
     "output_type": "stream",
     "text": [
      "True\n",
      "False\n",
      "True\n"
     ]
    }
   ],
   "source": [
    "# Function that checks wether a String is a Palindrome\n",
    "# A palindrome is a word, phrase, number, or other sequence of characters which reads the same backward as forward\n",
    "\n",
    "def is_palindrome(word):\n",
    "    word = word.lower().replace(\" \",\"\")\n",
    "    return word == word[::-1]\n",
    "# The function uses slicing to reverse the word and then checks if it is equal to the original word\n",
    "# If they are equal, the function returns True, otherwise it returns False\n",
    "# The function is case sensitive and does not handle spaces or punctuation\n",
    "# It also does not handle non-string inputs\n",
    "# For example, is_palindrome(\"radar\") returns True, while is_palindrome(\"hello\n",
    "# \") returns False\n",
    "\n",
    "print(is_palindrome(\"radar\"))\n",
    "print(is_palindrome(\"hello\"))   \n",
    "print(is_palindrome(\"Radar\"))"
   ]
  },
  {
   "cell_type": "code",
   "execution_count": 311,
   "metadata": {},
   "outputs": [
    {
     "name": "stdout",
     "output_type": "stream",
     "text": [
      "120\n",
      "3628800\n",
      "1\n",
      "1\n"
     ]
    }
   ],
   "source": [
    "# Function that calculates the factorial of a number using recursion\n",
    "\n",
    "def factorial(num):\n",
    "    if num == 0:\n",
    "        return 1\n",
    "    else: \n",
    "        return num * factorial(num-1)\n",
    "# The function uses recursion to calculate the factorial of a number\n",
    "# Test the function\n",
    "print(factorial(5))\n",
    "print(factorial(10))\n",
    "print(factorial(0))\n",
    "print(factorial(1))\n"
   ]
  },
  {
   "cell_type": "code",
   "execution_count": 321,
   "metadata": {},
   "outputs": [
    {
     "name": "stdout",
     "output_type": "stream",
     "text": [
      "{'hello': 1, 'world': 1, 'this': 1, 'is': 1, 'a': 1, 'test': 1, 'file': 3}\n"
     ]
    }
   ],
   "source": [
    "# Function to read a file and count the frequency of each word\n",
    "\n",
    "def count_word_frequency(filepath):\n",
    "    word_count = {}\n",
    "    with open (filepath, 'r') as file:\n",
    "        for line in file:\n",
    "            words = line.split()\n",
    "            for word in words:\n",
    "                word = word.lower().strip('.,!@#$%^&*()_+=')\n",
    "                word_count[word] = word_count.get(word,0) + 1\n",
    "    return word_count\n",
    "\n",
    "# Create a file with text\n",
    "with open('test.txt', 'w') as file:\n",
    "    file.write('Hello world! This is a test file file file.')\n",
    "\n",
    "# Read the file and count the frequency of each word\n",
    "my_word_count = count_word_frequency('test.txt')    \n",
    "print(my_word_count)  # This will print the frequency of each word in the file\n",
    "\n"
   ]
  },
  {
   "cell_type": "code",
   "execution_count": 324,
   "metadata": {},
   "outputs": [
    {
     "name": "stdout",
     "output_type": "stream",
     "text": [
      "Email address is valid\n"
     ]
    }
   ],
   "source": [
    "# Function to validate email address\n",
    "\n",
    "import re\n",
    "\n",
    "def is_valid_email(email):\n",
    "    \"\"\" This function checks if a given email address is valid\"\"\"\n",
    "    pattern = r'^[a-zA-Z0-9_.+-]+@[a-zA-Z0-9-]+\\.[a-zA-Z0-9-.]+$'\n",
    "    if re.match(pattern, email):\n",
    "        return True\n",
    "    else:\n",
    "        return False\n",
    "    \n",
    "email = input(\"Please enter your email address: \")\n",
    "\n",
    "if is_valid_email(email):\n",
    "    print(\"Email address is valid\")\n",
    "else:\n",
    "    print(\"Email address is invalid\")   \n"
   ]
  },
  {
   "cell_type": "code",
   "execution_count": 327,
   "metadata": {},
   "outputs": [
    {
     "name": "stdout",
     "output_type": "stream",
     "text": [
      "Phone number is invalid\n"
     ]
    }
   ],
   "source": [
    "# Function to validate phone number\n",
    "def is_valid_phone(phone):\n",
    "    \"\"\" This function checks if a given phone number is valid\"\"\"\n",
    "    pattern = r'^\\(?([0-9]{3})\\)?[-. ]?([0-9]{3})[-. ]?([0-9]{4})$'\n",
    "    if re.match(pattern, phone):\n",
    "        return True\n",
    "    else:\n",
    "        return False\n",
    "\n",
    "phone = input(\"Please enter your phone number: \")\n",
    "\n",
    "if is_valid_email(phone):\n",
    "    print(\"Phone number is valid\")\n",
    "else:\n",
    "    print(\"Phone number is invalid\")   \n"
   ]
  },
  {
   "cell_type": "markdown",
   "metadata": {},
   "source": [
    "# Lambda Functions in Python"
   ]
  },
  {
   "cell_type": "code",
   "execution_count": 328,
   "metadata": {},
   "outputs": [
    {
     "name": "stdout",
     "output_type": "stream",
     "text": [
      "12\n"
     ]
    }
   ],
   "source": [
    "def addition(a,b):\n",
    "    return a + b\n",
    "\n",
    "print(addition(2,10))"
   ]
  },
  {
   "cell_type": "code",
   "execution_count": 330,
   "metadata": {},
   "outputs": [
    {
     "name": "stdout",
     "output_type": "stream",
     "text": [
      "<class 'function'>\n",
      "11\n"
     ]
    }
   ],
   "source": [
    "# Create a lambda function -> is an anonoumous function\n",
    "addition = lambda a,b: a+b\n",
    "print(type(addition))\n",
    "print(addition(5,6))"
   ]
  },
  {
   "cell_type": "code",
   "execution_count": null,
   "metadata": {},
   "outputs": [
    {
     "data": {
      "text/plain": [
       "True"
      ]
     },
     "execution_count": 331,
     "metadata": {},
     "output_type": "execute_result"
    }
   ],
   "source": [
    "def even(num):\n",
    "    if num % 2 == 0:\n",
    "        return True\n",
    "    else:\n",
    "        return False\n",
    "\n",
    "even(24)\n",
    "        "
   ]
  },
  {
   "cell_type": "code",
   "execution_count": 332,
   "metadata": {},
   "outputs": [
    {
     "name": "stdout",
     "output_type": "stream",
     "text": [
      "True\n"
     ]
    }
   ],
   "source": [
    "# Creating a lambda function\n",
    "\n",
    "even1 = lambda num : num % 2 == 0\n",
    "print(even(24))"
   ]
  },
  {
   "cell_type": "code",
   "execution_count": 333,
   "metadata": {},
   "outputs": [
    {
     "data": {
      "text/plain": [
       "39"
      ]
     },
     "execution_count": 333,
     "metadata": {},
     "output_type": "execute_result"
    }
   ],
   "source": [
    "def addition(x,y,z):\n",
    "    return x + y + z\n",
    "\n",
    "addition(12,13,14)\n"
   ]
  },
  {
   "cell_type": "code",
   "execution_count": 335,
   "metadata": {},
   "outputs": [
    {
     "data": {
      "text/plain": [
       "39"
      ]
     },
     "execution_count": 335,
     "metadata": {},
     "output_type": "execute_result"
    }
   ],
   "source": [
    "addition1 = lambda x,y,z: x+y+z\n",
    "addition1(12,13,14)\n"
   ]
  },
  {
   "cell_type": "code",
   "execution_count": 336,
   "metadata": {},
   "outputs": [
    {
     "name": "stdout",
     "output_type": "stream",
     "text": [
      "[2, 4, 6, 8, 10]\n"
     ]
    }
   ],
   "source": [
    "# Map function\n",
    "\n",
    "numbers = [1,2,3,4,5]\n",
    "double_numbers = map(lambda x: x*2, numbers)\n",
    "print(list(double_numbers))"
   ]
  },
  {
   "cell_type": "code",
   "execution_count": 337,
   "metadata": {},
   "outputs": [
    {
     "name": "stdout",
     "output_type": "stream",
     "text": [
      "[2, 4, 6, 8, 10]\n"
     ]
    }
   ],
   "source": [
    "# Filter function\n",
    "numbers = [1,2,3,4,5,6,7,8,9,10]\n",
    "even_numbers = filter(lambda x: x % 2 == 0, numbers)\n",
    "print(list(even_numbers))"
   ]
  },
  {
   "cell_type": "code",
   "execution_count": 340,
   "metadata": {},
   "outputs": [
    {
     "name": "stdout",
     "output_type": "stream",
     "text": [
      "['APPLE', 'BANANA', 'CHERRY', 'DATE', 'BANANA']\n"
     ]
    }
   ],
   "source": [
    "upper_words = list(map(str.upper,words))\n",
    "print(upper_words)"
   ]
  },
  {
   "cell_type": "code",
   "execution_count": 344,
   "metadata": {},
   "outputs": [
    {
     "data": {
      "text/plain": [
       "['Jasper', 'Luna', 'Aurora']"
      ]
     },
     "execution_count": 344,
     "metadata": {},
     "output_type": "execute_result"
    }
   ],
   "source": [
    "def get_name(person):\n",
    "    return person['name']\n",
    "\n",
    "people = [\n",
    "    {'name':'Jasper', 'age':32},\n",
    "    {'name':'Luna', 'age':25},\n",
    "    {'name':'Aurora', 'age':28}\n",
    "]\n",
    "\n",
    "list(map(get_name, people))"
   ]
  },
  {
   "cell_type": "markdown",
   "metadata": {},
   "source": [
    "# Modules in Python"
   ]
  },
  {
   "cell_type": "markdown",
   "metadata": {},
   "source": [
    "## Importing Modules into Python"
   ]
  },
  {
   "cell_type": "code",
   "execution_count": 345,
   "metadata": {},
   "outputs": [
    {
     "data": {
      "text/plain": [
       "4.0"
      ]
     },
     "execution_count": 345,
     "metadata": {},
     "output_type": "execute_result"
    }
   ],
   "source": [
    "import math\n",
    "math.sqrt(16)"
   ]
  },
  {
   "cell_type": "code",
   "execution_count": null,
   "metadata": {},
   "outputs": [
    {
     "name": "stdout",
     "output_type": "stream",
     "text": [
      "4.0\n",
      "5.0\n",
      "3.141592653589793\n"
     ]
    }
   ],
   "source": [
    "from math import sqrt,pi\n",
    "from math import *\n",
    "print(sqrt(16))\n",
    "print(sqrt(25))\n",
    "print(pi)\n"
   ]
  },
  {
   "cell_type": "code",
   "execution_count": 349,
   "metadata": {},
   "outputs": [
    {
     "name": "stdout",
     "output_type": "stream",
     "text": [
      "Collecting numpy\n",
      "  Using cached numpy-2.1.3-cp312-cp312-macosx_14_0_arm64.whl.metadata (62 kB)\n",
      "Using cached numpy-2.1.3-cp312-cp312-macosx_14_0_arm64.whl (5.1 MB)\n",
      "Installing collected packages: numpy\n",
      "Successfully installed numpy-2.1.3\n"
     ]
    },
    {
     "data": {
      "text/plain": [
       "array([1, 2, 3, 4])"
      ]
     },
     "execution_count": 349,
     "metadata": {},
     "output_type": "execute_result"
    }
   ],
   "source": [
    "!pip install numpy\n",
    "import numpy as np\n",
    "np.array([1,2,3,4])"
   ]
  },
  {
   "cell_type": "markdown",
   "metadata": {},
   "source": [
    "# Packages"
   ]
  },
  {
   "cell_type": "code",
   "execution_count": 351,
   "metadata": {},
   "outputs": [
    {
     "data": {
      "text/plain": [
       "7"
      ]
     },
     "execution_count": 351,
     "metadata": {},
     "output_type": "execute_result"
    }
   ],
   "source": [
    "from maths import addition\n",
    "addition(2,5)\n"
   ]
  },
  {
   "cell_type": "code",
   "execution_count": 353,
   "metadata": {},
   "outputs": [],
   "source": [
    "from maths import *\n",
    "from mult import *"
   ]
  },
  {
   "cell_type": "code",
   "execution_count": 355,
   "metadata": {},
   "outputs": [
    {
     "name": "stdout",
     "output_type": "stream",
     "text": [
      "11\n"
     ]
    }
   ],
   "source": [
    "print(addition(7,4))"
   ]
  },
  {
   "cell_type": "code",
   "execution_count": 356,
   "metadata": {},
   "outputs": [
    {
     "name": "stdout",
     "output_type": "stream",
     "text": [
      "28\n"
     ]
    }
   ],
   "source": [
    "print(multiply(4,7))"
   ]
  },
  {
   "cell_type": "code",
   "execution_count": 364,
   "metadata": {},
   "outputs": [
    {
     "name": "stdout",
     "output_type": "stream",
     "text": [
      "3\n"
     ]
    }
   ],
   "source": [
    "from subtraction import subtraction\n",
    "print(subtraction(7,4))\n"
   ]
  },
  {
   "cell_type": "markdown",
   "metadata": {},
   "source": [
    "# Standard Library Overview"
   ]
  },
  {
   "cell_type": "code",
   "execution_count": 365,
   "metadata": {},
   "outputs": [
    {
     "name": "stdout",
     "output_type": "stream",
     "text": [
      "array('i', [1, 2, 3, 4])\n"
     ]
    }
   ],
   "source": [
    "import array\n",
    "arr = array.array('i',[1,2,3,4])\n",
    "print(arr)"
   ]
  },
  {
   "cell_type": "code",
   "execution_count": 366,
   "metadata": {},
   "outputs": [
    {
     "name": "stdout",
     "output_type": "stream",
     "text": [
      "4.0\n",
      "3.141592653589793\n",
      "2.718281828459045\n"
     ]
    }
   ],
   "source": [
    "import math\n",
    "print(math.sqrt(16))\n",
    "print(math.pi)\n",
    "print(math.e)"
   ]
  },
  {
   "cell_type": "code",
   "execution_count": 371,
   "metadata": {},
   "outputs": [
    {
     "name": "stdout",
     "output_type": "stream",
     "text": [
      "6\n",
      "apple\n"
     ]
    }
   ],
   "source": [
    "import random\n",
    "print(random.randint(1,10))\n",
    "print(random.choice(['apple', 'banana', 'cherry']))"
   ]
  },
  {
   "cell_type": "code",
   "execution_count": 372,
   "metadata": {},
   "outputs": [
    {
     "name": "stdout",
     "output_type": "stream",
     "text": [
      "/Users/jasper/Desktop/Introduction_AIML/1-Python_Basics\n"
     ]
    }
   ],
   "source": [
    "# File and Directory access\n",
    "\n",
    "import os\n",
    "print(os.getcwd())"
   ]
  },
  {
   "cell_type": "code",
   "execution_count": 373,
   "metadata": {},
   "outputs": [],
   "source": [
    "os.mkdir('test_dir')\n"
   ]
  },
  {
   "cell_type": "code",
   "execution_count": 377,
   "metadata": {},
   "outputs": [
    {
     "data": {
      "text/plain": [
       "'destination.txt'"
      ]
     },
     "execution_count": 377,
     "metadata": {},
     "output_type": "execute_result"
    }
   ],
   "source": [
    "# High level operations on files and collectrions of files\n",
    "\n",
    "import shutil\n",
    "shutil.copyfile('source.txt','destination.txt')"
   ]
  },
  {
   "cell_type": "code",
   "execution_count": 380,
   "metadata": {},
   "outputs": [
    {
     "name": "stdout",
     "output_type": "stream",
     "text": [
      "{\"name\": \"Jasper\", \"age\": 32, \"height\": 6.1}\n"
     ]
    }
   ],
   "source": [
    "import json\n",
    "data = {'name':'Jasper', 'age':32, 'height':6.1}\n",
    "json_str = json.dumps(data)\n",
    "print(json_str)\n"
   ]
  },
  {
   "cell_type": "code",
   "execution_count": 382,
   "metadata": {},
   "outputs": [
    {
     "name": "stdout",
     "output_type": "stream",
     "text": [
      "<class 'str'>\n",
      "{'name': 'Jasper', 'age': 32, 'height': 6.1}\n",
      "<class 'dict'>\n"
     ]
    }
   ],
   "source": [
    "print(type(json_str))\n",
    "parsed_data = json.loads(json_str)\n",
    "print(parsed_data)\n",
    "print(type(parsed_data))"
   ]
  },
  {
   "cell_type": "code",
   "execution_count": 383,
   "metadata": {},
   "outputs": [
    {
     "name": "stdout",
     "output_type": "stream",
     "text": [
      "['Name', 'Age', 'Height']\n",
      "['Jasper', '32', '6.1']\n",
      "['Luna', '25', '5.5']\n",
      "['Aurora', '28', '6.2']\n"
     ]
    }
   ],
   "source": [
    "# csv module\n",
    "\n",
    "import csv\n",
    "with open('example.csv', 'w',newline='') as file:\n",
    "    writer = csv.writer(file)\n",
    "    writer.writerow(['Name', 'Age', 'Height'])\n",
    "    writer.writerow(['Jasper', 32, 6.1])\n",
    "    writer.writerow(['Luna', 25, 5.5])\n",
    "    writer.writerow(['Aurora', 28, 6.2])\n",
    "    \n",
    "with open('example.csv', 'r') as file:\n",
    "    reader = csv.reader(file)\n",
    "    for row in reader:\n",
    "        print(row)\n",
    "\n"
   ]
  },
  {
   "cell_type": "code",
   "execution_count": null,
   "metadata": {},
   "outputs": [
    {
     "name": "stdout",
     "output_type": "stream",
     "text": [
      "2024-11-28 22:04:48.565041\n",
      "2024-11-27 22:04:48.565041\n"
     ]
    }
   ],
   "source": [
    "# datetime\n",
    "from datetime import datetime, timedelta\n",
    "now = datetime.now()\n",
    "print(now)\n",
    "\n",
    "yesterday = now - timedelta(days=1)\n",
    "print(yesterday)"
   ]
  },
  {
   "cell_type": "code",
   "execution_count": 388,
   "metadata": {},
   "outputs": [
    {
     "name": "stdout",
     "output_type": "stream",
     "text": [
      "1732802771.3704221\n",
      "1732802773.37565\n"
     ]
    }
   ],
   "source": [
    "# time\n",
    "\n",
    "import time\n",
    "print(time.time())\n",
    "time.sleep(2)\n",
    "print(time.time())"
   ]
  },
  {
   "cell_type": "code",
   "execution_count": 390,
   "metadata": {},
   "outputs": [
    {
     "name": "stdout",
     "output_type": "stream",
     "text": [
      "123\n"
     ]
    }
   ],
   "source": [
    "# Regular expression\n",
    "\n",
    "import re\n",
    "pattern = r'\\d+'\n",
    "text = 'There are 123 apples'\n",
    "match = re.search(pattern,text)\n",
    "print(match.group())\n"
   ]
  },
  {
   "cell_type": "code",
   "execution_count": 392,
   "metadata": {},
   "outputs": [
    {
     "name": "stdout",
     "output_type": "stream",
     "text": [
      "Hellow\n",
      "How are you?\n",
      "I am good\n",
      "Jasper is my name\n",
      "Welcome to the course\n"
     ]
    }
   ],
   "source": [
    "# Read a while file\n",
    "\n",
    "with open('example.txt', 'r') as file:\n",
    "    content = file.read()\n",
    "    print(content)"
   ]
  },
  {
   "cell_type": "code",
   "execution_count": 393,
   "metadata": {},
   "outputs": [
    {
     "name": "stdout",
     "output_type": "stream",
     "text": [
      "Hellow\n",
      "\n",
      "How are you?\n",
      "\n",
      "I am good\n",
      "\n",
      "Jasper is my name\n",
      "\n",
      "Welcome to the course\n"
     ]
    }
   ],
   "source": [
    "# Read a file line by line\n",
    "with open('example.txt', 'r') as file:\n",
    "    for line in file:\n",
    "        print(line)"
   ]
  },
  {
   "cell_type": "code",
   "execution_count": 397,
   "metadata": {},
   "outputs": [
    {
     "name": "stdout",
     "output_type": "stream",
     "text": [
      "Hellow\n",
      "How are you?\n",
      "I am good\n",
      "Jasper is my name\n",
      "Welcome to the course\n"
     ]
    }
   ],
   "source": [
    "# Read a whiole file\n",
    "\n",
    "with open('example.txt', 'r') as file:\n",
    "    content = file.read()\n",
    "    print(content)"
   ]
  },
  {
   "cell_type": "code",
   "execution_count": 398,
   "metadata": {},
   "outputs": [
    {
     "name": "stdout",
     "output_type": "stream",
     "text": [
      "Hellow\n",
      "\n",
      "How are you?\n",
      "\n",
      "I am good\n",
      "\n",
      "Jasper is my name\n",
      "\n",
      "Welcome to the course\n"
     ]
    }
   ],
   "source": [
    "# Read a file line by line\n",
    "with open('example.txt', 'r') as file:\n",
    "    for line in file:\n",
    "        print(line)"
   ]
  },
  {
   "cell_type": "code",
   "execution_count": null,
   "metadata": {},
   "outputs": [],
   "source": [
    "with open('example.txt', 'w') as file:\n",
    "    file.write(\"Hello new world\")\n",
    "            # Conclusion -> write function over-writes the whole file\n",
    "    \n",
    "    "
   ]
  },
  {
   "cell_type": "code",
   "execution_count": null,
   "metadata": {},
   "outputs": [
    {
     "name": "stdout",
     "output_type": "stream",
     "text": [
      "Hello new world\n"
     ]
    }
   ],
   "source": [
    "# Read a file line by line\n",
    "with open('example.txt', 'r') as file:\n",
    "    for line in file:\n",
    "        print(line)\n"
   ]
  },
  {
   "cell_type": "code",
   "execution_count": 402,
   "metadata": {},
   "outputs": [],
   "source": [
    "# Write a file without overwriting\n",
    "\n",
    "with open('example.txt', 'a') as file:\n",
    "    file.write(\"Hello new world\")\n",
    "    file.write(\"This will be a beautifull day\")\n"
   ]
  },
  {
   "cell_type": "code",
   "execution_count": 403,
   "metadata": {},
   "outputs": [
    {
     "name": "stdout",
     "output_type": "stream",
     "text": [
      "Hello new worldHello new worldThis will be a beautifull dayHello new worldThis will be a beautifull day\n"
     ]
    }
   ],
   "source": [
    "# Read a file line by line\n",
    "with open('example.txt', 'r') as file:\n",
    "    for line in file:\n",
    "        print(line)\n"
   ]
  },
  {
   "cell_type": "code",
   "execution_count": 409,
   "metadata": {},
   "outputs": [],
   "source": [
    "lines = ['first line \\n','second line \\n', 'third line \\n']\n",
    "with open('example.txt', 'w') as file:\n",
    "          file.writelines(lines)"
   ]
  },
  {
   "cell_type": "code",
   "execution_count": 410,
   "metadata": {},
   "outputs": [
    {
     "name": "stdout",
     "output_type": "stream",
     "text": [
      "first line \n",
      "\n",
      "second line \n",
      "\n",
      "third line \n",
      "\n"
     ]
    }
   ],
   "source": [
    "# Read a file line by line\n",
    "with open('example.txt', 'r') as file:\n",
    "    for line in file:\n",
    "        print(line)\n"
   ]
  },
  {
   "cell_type": "code",
   "execution_count": 408,
   "metadata": {},
   "outputs": [],
   "source": [
    "## Binary files\n",
    "# writing to a binary file\n",
    "\n",
    "data = b'\\x00\\x01\\x02\\x03'\n",
    "with open('example.bin', 'wb') as file:\n",
    "    file.write(data)\n"
   ]
  },
  {
   "cell_type": "code",
   "execution_count": 413,
   "metadata": {},
   "outputs": [
    {
     "name": "stdout",
     "output_type": "stream",
     "text": [
      "b'\\x00\\x01\\x02\\x03'\n"
     ]
    }
   ],
   "source": [
    "# Read a file line by line\n",
    "with open('example.bin', 'rb') as file:\n",
    "    for line in file:\n",
    "        print(line)\n"
   ]
  },
  {
   "cell_type": "code",
   "execution_count": 414,
   "metadata": {},
   "outputs": [
    {
     "name": "stdout",
     "output_type": "stream",
     "text": [
      "b'\\x00\\x01\\x02\\x03'\n"
     ]
    }
   ],
   "source": [
    "# Reading a binary file\n",
    "with open('example.bin', 'rb') as file:\n",
    "    data = file.read()\n",
    "    print(data)"
   ]
  },
  {
   "cell_type": "code",
   "execution_count": 415,
   "metadata": {},
   "outputs": [],
   "source": [
    "# Read the content from a source file and write to a destination text file\n",
    "\n",
    "# copying a text file\n",
    "\n",
    "with open('example.txt', 'r') as source_file:\n",
    "    content = source_file.read()\n",
    "    \n",
    "with open('destination2.txt', 'w') as destination_file:\n",
    "    destination_file.write(content)\n",
    "\n",
    "\n"
   ]
  },
  {
   "cell_type": "code",
   "execution_count": 416,
   "metadata": {},
   "outputs": [
    {
     "name": "stdout",
     "output_type": "stream",
     "text": [
      "What can we do today to turnaround into the future? \n",
      "This is a newline \n",
      "\n"
     ]
    }
   ],
   "source": [
    "# writing and then reading a file in python\n",
    "\n",
    "with open('example.txt', 'w+') as file:\n",
    "    file.write('What can we do today to turnaround into the future? \\n')\n",
    "    file.write('This is a newline \\n')\n",
    "    \n",
    "    ## Move the file cussor to the beginning\n",
    "    file.seek(0)\n",
    "    \n",
    "    # Read the content of thr file\n",
    "    content = file.read()\n",
    "    print(content)\n",
    "    "
   ]
  },
  {
   "cell_type": "code",
   "execution_count": 417,
   "metadata": {},
   "outputs": [
    {
     "name": "stdout",
     "output_type": "stream",
     "text": [
      "Directory package created\n"
     ]
    }
   ],
   "source": [
    "# Creating a new directory\n",
    "import os\n",
    "new_directory = \"package\"\n",
    "os.mkdir(new_directory)\n",
    "print(f\"Directory {new_directory} created\")"
   ]
  },
  {
   "cell_type": "code",
   "execution_count": 420,
   "metadata": {},
   "outputs": [
    {
     "name": "stdout",
     "output_type": "stream",
     "text": [
      "/Users/jasper/Desktop/Introduction_AIML/1-Python_Basics\n",
      "['mult.py', 'destination.txt', 'example.csv', '__init__.py', '__pycache__', 'test.py', 'source.txt', 'test_dir', 'example.bin', 'example.txt', 'test.txt', 'subtraction.py', 'maths.py', 'destination2.txt', 'test.ipynb', 'package']\n"
     ]
    }
   ],
   "source": [
    "## Listing files and directories\n",
    "current_dir = os.getcwd()\n",
    "print(current_dir)\n",
    "\n",
    "items = os.listdir(\".\")\n",
    "print(items)\n"
   ]
  },
  {
   "cell_type": "code",
   "execution_count": 422,
   "metadata": {},
   "outputs": [
    {
     "name": "stdout",
     "output_type": "stream",
     "text": [
      "/Users/jasper/Desktop/Introduction_AIML/1-Python_Basics/folder/file.txt\n"
     ]
    }
   ],
   "source": [
    "# Joining paths \n",
    "\n",
    "dir_name = 'folder'\n",
    "file_name = 'file.txt'\n",
    "#full_path = os.path.join(dir_name,file_name)\n",
    "full_path = os.path.join(os.getcwd(),dir_name,file_name)\n",
    "print(full_path)"
   ]
  },
  {
   "cell_type": "code",
   "execution_count": 425,
   "metadata": {},
   "outputs": [
    {
     "name": "stdout",
     "output_type": "stream",
     "text": [
      "The filepath does not exist\n"
     ]
    }
   ],
   "source": [
    "path = 'example1.txt'\n",
    "if os.path.exists(path):\n",
    "    print(\"The filepath already exists\")\n",
    "else:\n",
    "    print(\"The filepath does not exist\")"
   ]
  },
  {
   "cell_type": "code",
   "execution_count": 426,
   "metadata": {},
   "outputs": [
    {
     "name": "stdout",
     "output_type": "stream",
     "text": [
      "The path is a file\n"
     ]
    }
   ],
   "source": [
    "# Checking if the path is a file or directory\n",
    "\n",
    "import os\n",
    "path = 'example.txt'\n",
    "\n",
    "if os.path.isfile(path):\n",
    "    print(\"The path is a file\")\n",
    "elif os.path.isdir(path):\n",
    "    print(\"The path is a directory\")\n",
    "else:\n",
    "    print(\"The path is neither a file nor a directory\")\n",
    "    "
   ]
  },
  {
   "cell_type": "code",
   "execution_count": null,
   "metadata": {},
   "outputs": [
    {
     "name": "stdout",
     "output_type": "stream",
     "text": [
      "/Users/jasper/Desktop/Introduction_AIML/1-Python_Basics/example.txt\n"
     ]
    }
   ],
   "source": [
    "# Absolute path\n",
    "\n",
    "import os\n",
    "relative_path = 'example.txt'\n",
    "absolute_path = os.path.abspath(relative_path)\n",
    "print(absolute_path)"
   ]
  },
  {
   "cell_type": "markdown",
   "metadata": {},
   "source": [
    "# Exception handling"
   ]
  },
  {
   "cell_type": "code",
   "execution_count": null,
   "metadata": {},
   "outputs": [],
   "source": []
  }
 ],
 "metadata": {
  "kernelspec": {
   "display_name": "Python 3",
   "language": "python",
   "name": "python3"
  },
  "language_info": {
   "codemirror_mode": {
    "name": "ipython",
    "version": 3
   },
   "file_extension": ".py",
   "mimetype": "text/x-python",
   "name": "python",
   "nbconvert_exporter": "python",
   "pygments_lexer": "ipython3",
   "version": "3.12.0"
  }
 },
 "nbformat": 4,
 "nbformat_minor": 2
}
